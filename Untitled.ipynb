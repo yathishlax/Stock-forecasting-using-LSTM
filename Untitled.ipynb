{
  "nbformat": 4,
  "nbformat_minor": 0,
  "metadata": {
    "kernelspec": {
      "display_name": "Python 3",
      "language": "python",
      "name": "python3"
    },
    "language_info": {
      "codemirror_mode": {
        "name": "ipython",
        "version": 3
      },
      "file_extension": ".py",
      "mimetype": "text/x-python",
      "name": "python",
      "nbconvert_exporter": "python",
      "pygments_lexer": "ipython3",
      "version": "3.6.9"
    },
    "colab": {
      "name": "Untitled.ipynb",
      "provenance": [],
      "toc_visible": true,
      "include_colab_link": true
    }
  },
  "cells": [
    {
      "cell_type": "markdown",
      "metadata": {
        "id": "view-in-github",
        "colab_type": "text"
      },
      "source": [
        "<a href=\"https://colab.research.google.com/github/yathishlax/Stock-forecasting-using-LSTM/blob/master/Untitled.ipynb\" target=\"_parent\"><img src=\"https://colab.research.google.com/assets/colab-badge.svg\" alt=\"Open In Colab\"/></a>"
      ]
    },
    {
      "cell_type": "markdown",
      "metadata": {
        "id": "be6lUdbPBK2P",
        "colab_type": "text"
      },
      "source": [
        "### Stock Market Prediction And Forecasting Using Stacked LSTM"
      ]
    },
    {
      "cell_type": "code",
      "metadata": {
        "id": "fB9IEHYoBK2R",
        "colab_type": "code",
        "colab": {}
      },
      "source": [
        "### Keras and Tensorflow >2.0"
      ],
      "execution_count": 0,
      "outputs": []
    },
    {
      "cell_type": "code",
      "metadata": {
        "id": "iGJDbtWNBK2a",
        "colab_type": "code",
        "colab": {
          "base_uri": "https://localhost:8080/",
          "height": 70
        },
        "outputId": "4f718dcd-2f87-4b49-d2b0-b7caa008082e"
      },
      "source": [
        "### Data Collection\n",
        "import pandas_datareader as pdr\n",
        "key=\"\""
      ],
      "execution_count": 1,
      "outputs": [
        {
          "output_type": "stream",
          "text": [
            "/usr/local/lib/python3.6/dist-packages/pandas_datareader/compat/__init__.py:7: FutureWarning: pandas.util.testing is deprecated. Use the functions in the public API at pandas.testing instead.\n",
            "  from pandas.util.testing import assert_frame_equal\n"
          ],
          "name": "stderr"
        }
      ]
    },
    {
      "cell_type": "markdown",
      "metadata": {
        "id": "VzSh9mxyGPGf",
        "colab_type": "text"
      },
      "source": [
        "Lets install & quandl to access shares data"
      ]
    },
    {
      "cell_type": "code",
      "metadata": {
        "id": "Nh5b7C3DFIsx",
        "colab_type": "code",
        "colab": {
          "base_uri": "https://localhost:8080/",
          "height": 322
        },
        "outputId": "172d578c-b928-4df1-c3b1-cf56e6dacb6d"
      },
      "source": [
        "pip install quandl"
      ],
      "execution_count": 11,
      "outputs": [
        {
          "output_type": "stream",
          "text": [
            "Collecting quandl\n",
            "  Downloading https://files.pythonhosted.org/packages/07/ab/8cd479fba8a9b197a43a0d55dd534b066fb8e5a0a04b5c0384cbc5d663aa/Quandl-3.5.0-py2.py3-none-any.whl\n",
            "Collecting inflection>=0.3.1\n",
            "  Downloading https://files.pythonhosted.org/packages/d2/cd/f04c661d1b5ba6b7d77008e8fedd28a27a683eeeffcd93c6b2dbe54ea983/inflection-0.5.0-py2.py3-none-any.whl\n",
            "Requirement already satisfied: numpy>=1.8 in /usr/local/lib/python3.6/dist-packages (from quandl) (1.18.5)\n",
            "Requirement already satisfied: more-itertools in /usr/local/lib/python3.6/dist-packages (from quandl) (8.3.0)\n",
            "Requirement already satisfied: pandas>=0.14 in /usr/local/lib/python3.6/dist-packages (from quandl) (1.0.4)\n",
            "Requirement already satisfied: requests>=2.7.0 in /usr/local/lib/python3.6/dist-packages (from quandl) (2.23.0)\n",
            "Requirement already satisfied: six in /usr/local/lib/python3.6/dist-packages (from quandl) (1.12.0)\n",
            "Requirement already satisfied: python-dateutil in /usr/local/lib/python3.6/dist-packages (from quandl) (2.8.1)\n",
            "Requirement already satisfied: pytz>=2017.2 in /usr/local/lib/python3.6/dist-packages (from pandas>=0.14->quandl) (2018.9)\n",
            "Requirement already satisfied: urllib3!=1.25.0,!=1.25.1,<1.26,>=1.21.1 in /usr/local/lib/python3.6/dist-packages (from requests>=2.7.0->quandl) (1.24.3)\n",
            "Requirement already satisfied: certifi>=2017.4.17 in /usr/local/lib/python3.6/dist-packages (from requests>=2.7.0->quandl) (2020.4.5.1)\n",
            "Requirement already satisfied: chardet<4,>=3.0.2 in /usr/local/lib/python3.6/dist-packages (from requests>=2.7.0->quandl) (3.0.4)\n",
            "Requirement already satisfied: idna<3,>=2.5 in /usr/local/lib/python3.6/dist-packages (from requests>=2.7.0->quandl) (2.9)\n",
            "Installing collected packages: inflection, quandl\n",
            "Successfully installed inflection-0.5.0 quandl-3.5.0\n"
          ],
          "name": "stdout"
        }
      ]
    },
    {
      "cell_type": "code",
      "metadata": {
        "id": "BvRtp4EZFuPx",
        "colab_type": "code",
        "colab": {}
      },
      "source": [
        "import quandl"
      ],
      "execution_count": 0,
      "outputs": []
    },
    {
      "cell_type": "markdown",
      "metadata": {
        "id": "E2-KpAyFHRZ9",
        "colab_type": "text"
      },
      "source": [
        "Company Name: Birlasoft is taken for study"
      ]
    },
    {
      "cell_type": "code",
      "metadata": {
        "id": "CrL1MUSPFnDw",
        "colab_type": "code",
        "colab": {}
      },
      "source": [
        "quandl.ApiConfig.api_key ='LgoZe3fo8ypCxzdYsmXB'\n",
        "df = quandl.get('BSE/BOM532400')\n"
      ],
      "execution_count": 0,
      "outputs": []
    },
    {
      "cell_type": "markdown",
      "metadata": {
        "id": "s1RBFduuHjoU",
        "colab_type": "text"
      },
      "source": [
        "Lets save the file into csv and import back using pandas for operation. "
      ]
    },
    {
      "cell_type": "code",
      "metadata": {
        "id": "6EK1ztCXBK2u",
        "colab_type": "code",
        "colab": {}
      },
      "source": [
        "df.to_csv('BSFT.csv')"
      ],
      "execution_count": 0,
      "outputs": []
    },
    {
      "cell_type": "code",
      "metadata": {
        "id": "sUr0EbI1BK2y",
        "colab_type": "code",
        "colab": {}
      },
      "source": [
        "import pandas as pd"
      ],
      "execution_count": 0,
      "outputs": []
    },
    {
      "cell_type": "code",
      "metadata": {
        "id": "c2oo4OjGBK22",
        "colab_type": "code",
        "colab": {}
      },
      "source": [
        "df=pd.read_csv('BSFT.csv')"
      ],
      "execution_count": 0,
      "outputs": []
    },
    {
      "cell_type": "code",
      "metadata": {
        "id": "u9oKL-1gBK25",
        "colab_type": "code",
        "colab": {
          "base_uri": "https://localhost:8080/",
          "height": 296
        },
        "outputId": "540ee3ac-5aa2-45cb-9c9b-506900cbb4a6"
      },
      "source": [
        "df.head()"
      ],
      "execution_count": 26,
      "outputs": [
        {
          "output_type": "execute_result",
          "data": {
            "text/html": [
              "<div>\n",
              "<style scoped>\n",
              "    .dataframe tbody tr th:only-of-type {\n",
              "        vertical-align: middle;\n",
              "    }\n",
              "\n",
              "    .dataframe tbody tr th {\n",
              "        vertical-align: top;\n",
              "    }\n",
              "\n",
              "    .dataframe thead th {\n",
              "        text-align: right;\n",
              "    }\n",
              "</style>\n",
              "<table border=\"1\" class=\"dataframe\">\n",
              "  <thead>\n",
              "    <tr style=\"text-align: right;\">\n",
              "      <th></th>\n",
              "      <th>Date</th>\n",
              "      <th>Open</th>\n",
              "      <th>High</th>\n",
              "      <th>Low</th>\n",
              "      <th>Close</th>\n",
              "      <th>WAP</th>\n",
              "      <th>No. of Shares</th>\n",
              "      <th>No. of Trades</th>\n",
              "      <th>Total Turnover</th>\n",
              "      <th>Deliverable Quantity</th>\n",
              "      <th>% Deli. Qty to Traded Qty</th>\n",
              "      <th>Spread H-L</th>\n",
              "      <th>Spread C-O</th>\n",
              "    </tr>\n",
              "  </thead>\n",
              "  <tbody>\n",
              "    <tr>\n",
              "      <th>0</th>\n",
              "      <td>2001-01-08</td>\n",
              "      <td>55.00</td>\n",
              "      <td>56.90</td>\n",
              "      <td>52.90</td>\n",
              "      <td>52.9</td>\n",
              "      <td>53.952653</td>\n",
              "      <td>1225.0</td>\n",
              "      <td>11.0</td>\n",
              "      <td>66092.0</td>\n",
              "      <td>NaN</td>\n",
              "      <td>NaN</td>\n",
              "      <td>4.00</td>\n",
              "      <td>-2.10</td>\n",
              "    </tr>\n",
              "    <tr>\n",
              "      <th>1</th>\n",
              "      <td>2001-01-09</td>\n",
              "      <td>53.80</td>\n",
              "      <td>54.85</td>\n",
              "      <td>52.50</td>\n",
              "      <td>54.5</td>\n",
              "      <td>53.755472</td>\n",
              "      <td>1325.0</td>\n",
              "      <td>17.0</td>\n",
              "      <td>71226.0</td>\n",
              "      <td>NaN</td>\n",
              "      <td>NaN</td>\n",
              "      <td>2.35</td>\n",
              "      <td>0.70</td>\n",
              "    </tr>\n",
              "    <tr>\n",
              "      <th>2</th>\n",
              "      <td>2001-01-10</td>\n",
              "      <td>54.00</td>\n",
              "      <td>54.00</td>\n",
              "      <td>53.00</td>\n",
              "      <td>53.0</td>\n",
              "      <td>53.505882</td>\n",
              "      <td>1275.0</td>\n",
              "      <td>18.0</td>\n",
              "      <td>68220.0</td>\n",
              "      <td>NaN</td>\n",
              "      <td>NaN</td>\n",
              "      <td>1.00</td>\n",
              "      <td>-1.00</td>\n",
              "    </tr>\n",
              "    <tr>\n",
              "      <th>3</th>\n",
              "      <td>2001-01-11</td>\n",
              "      <td>53.90</td>\n",
              "      <td>53.90</td>\n",
              "      <td>51.00</td>\n",
              "      <td>51.0</td>\n",
              "      <td>51.068293</td>\n",
              "      <td>205.0</td>\n",
              "      <td>3.0</td>\n",
              "      <td>10469.0</td>\n",
              "      <td>NaN</td>\n",
              "      <td>NaN</td>\n",
              "      <td>2.90</td>\n",
              "      <td>-2.90</td>\n",
              "    </tr>\n",
              "    <tr>\n",
              "      <th>4</th>\n",
              "      <td>2001-01-12</td>\n",
              "      <td>48.55</td>\n",
              "      <td>49.50</td>\n",
              "      <td>48.05</td>\n",
              "      <td>49.5</td>\n",
              "      <td>48.384252</td>\n",
              "      <td>1270.0</td>\n",
              "      <td>20.0</td>\n",
              "      <td>61448.0</td>\n",
              "      <td>NaN</td>\n",
              "      <td>NaN</td>\n",
              "      <td>1.45</td>\n",
              "      <td>0.95</td>\n",
              "    </tr>\n",
              "  </tbody>\n",
              "</table>\n",
              "</div>"
            ],
            "text/plain": [
              "         Date   Open   High  ...  % Deli. Qty to Traded Qty  Spread H-L  Spread C-O\n",
              "0  2001-01-08  55.00  56.90  ...                        NaN        4.00       -2.10\n",
              "1  2001-01-09  53.80  54.85  ...                        NaN        2.35        0.70\n",
              "2  2001-01-10  54.00  54.00  ...                        NaN        1.00       -1.00\n",
              "3  2001-01-11  53.90  53.90  ...                        NaN        2.90       -2.90\n",
              "4  2001-01-12  48.55  49.50  ...                        NaN        1.45        0.95\n",
              "\n",
              "[5 rows x 13 columns]"
            ]
          },
          "metadata": {
            "tags": []
          },
          "execution_count": 26
        }
      ]
    },
    {
      "cell_type": "code",
      "metadata": {
        "id": "iljIJ0EyBK3A",
        "colab_type": "code",
        "colab": {
          "base_uri": "https://localhost:8080/",
          "height": 296
        },
        "outputId": "7c654b16-6241-4b74-e635-6e3180b62219"
      },
      "source": [
        "df.tail()"
      ],
      "execution_count": 27,
      "outputs": [
        {
          "output_type": "execute_result",
          "data": {
            "text/html": [
              "<div>\n",
              "<style scoped>\n",
              "    .dataframe tbody tr th:only-of-type {\n",
              "        vertical-align: middle;\n",
              "    }\n",
              "\n",
              "    .dataframe tbody tr th {\n",
              "        vertical-align: top;\n",
              "    }\n",
              "\n",
              "    .dataframe thead th {\n",
              "        text-align: right;\n",
              "    }\n",
              "</style>\n",
              "<table border=\"1\" class=\"dataframe\">\n",
              "  <thead>\n",
              "    <tr style=\"text-align: right;\">\n",
              "      <th></th>\n",
              "      <th>Date</th>\n",
              "      <th>Open</th>\n",
              "      <th>High</th>\n",
              "      <th>Low</th>\n",
              "      <th>Close</th>\n",
              "      <th>WAP</th>\n",
              "      <th>No. of Shares</th>\n",
              "      <th>No. of Trades</th>\n",
              "      <th>Total Turnover</th>\n",
              "      <th>Deliverable Quantity</th>\n",
              "      <th>% Deli. Qty to Traded Qty</th>\n",
              "      <th>Spread H-L</th>\n",
              "      <th>Spread C-O</th>\n",
              "    </tr>\n",
              "  </thead>\n",
              "  <tbody>\n",
              "    <tr>\n",
              "      <th>4804</th>\n",
              "      <td>2020-06-05</td>\n",
              "      <td>81.80</td>\n",
              "      <td>84.35</td>\n",
              "      <td>80.50</td>\n",
              "      <td>81.65</td>\n",
              "      <td>82.32</td>\n",
              "      <td>95619.0</td>\n",
              "      <td>1468.0</td>\n",
              "      <td>7871701.0</td>\n",
              "      <td>33224.0</td>\n",
              "      <td>34.75</td>\n",
              "      <td>3.85</td>\n",
              "      <td>-0.15</td>\n",
              "    </tr>\n",
              "    <tr>\n",
              "      <th>4805</th>\n",
              "      <td>2020-06-08</td>\n",
              "      <td>82.75</td>\n",
              "      <td>88.00</td>\n",
              "      <td>81.40</td>\n",
              "      <td>83.50</td>\n",
              "      <td>84.52</td>\n",
              "      <td>154035.0</td>\n",
              "      <td>1921.0</td>\n",
              "      <td>13018625.0</td>\n",
              "      <td>32095.0</td>\n",
              "      <td>20.84</td>\n",
              "      <td>6.60</td>\n",
              "      <td>0.75</td>\n",
              "    </tr>\n",
              "    <tr>\n",
              "      <th>4806</th>\n",
              "      <td>2020-06-09</td>\n",
              "      <td>84.05</td>\n",
              "      <td>85.35</td>\n",
              "      <td>81.30</td>\n",
              "      <td>82.35</td>\n",
              "      <td>83.95</td>\n",
              "      <td>50752.0</td>\n",
              "      <td>864.0</td>\n",
              "      <td>4260595.0</td>\n",
              "      <td>22770.0</td>\n",
              "      <td>44.87</td>\n",
              "      <td>4.05</td>\n",
              "      <td>-1.70</td>\n",
              "    </tr>\n",
              "    <tr>\n",
              "      <th>4807</th>\n",
              "      <td>2020-06-10</td>\n",
              "      <td>82.85</td>\n",
              "      <td>83.90</td>\n",
              "      <td>80.25</td>\n",
              "      <td>80.75</td>\n",
              "      <td>81.23</td>\n",
              "      <td>39575.0</td>\n",
              "      <td>643.0</td>\n",
              "      <td>3214500.0</td>\n",
              "      <td>16139.0</td>\n",
              "      <td>40.78</td>\n",
              "      <td>3.65</td>\n",
              "      <td>-2.10</td>\n",
              "    </tr>\n",
              "    <tr>\n",
              "      <th>4808</th>\n",
              "      <td>2020-06-11</td>\n",
              "      <td>84.00</td>\n",
              "      <td>85.25</td>\n",
              "      <td>80.65</td>\n",
              "      <td>81.20</td>\n",
              "      <td>82.42</td>\n",
              "      <td>100080.0</td>\n",
              "      <td>1884.0</td>\n",
              "      <td>8248849.0</td>\n",
              "      <td>41885.0</td>\n",
              "      <td>41.85</td>\n",
              "      <td>4.60</td>\n",
              "      <td>-2.80</td>\n",
              "    </tr>\n",
              "  </tbody>\n",
              "</table>\n",
              "</div>"
            ],
            "text/plain": [
              "            Date   Open  ...  Spread H-L  Spread C-O\n",
              "4804  2020-06-05  81.80  ...        3.85       -0.15\n",
              "4805  2020-06-08  82.75  ...        6.60        0.75\n",
              "4806  2020-06-09  84.05  ...        4.05       -1.70\n",
              "4807  2020-06-10  82.85  ...        3.65       -2.10\n",
              "4808  2020-06-11  84.00  ...        4.60       -2.80\n",
              "\n",
              "[5 rows x 13 columns]"
            ]
          },
          "metadata": {
            "tags": []
          },
          "execution_count": 27
        }
      ]
    },
    {
      "cell_type": "markdown",
      "metadata": {
        "id": "nZXsQXcNIKic",
        "colab_type": "text"
      },
      "source": [
        "Lets take close and do the stock prediction"
      ]
    },
    {
      "cell_type": "code",
      "metadata": {
        "id": "XEktH9POBK3D",
        "colab_type": "code",
        "colab": {}
      },
      "source": [
        "df1=df.reset_index()['Close']"
      ],
      "execution_count": 0,
      "outputs": []
    },
    {
      "cell_type": "code",
      "metadata": {
        "id": "5IBYB0EtBK3H",
        "colab_type": "code",
        "colab": {
          "base_uri": "https://localhost:8080/",
          "height": 218
        },
        "outputId": "f2718d22-deb5-45bc-fa7f-65ee7a2cff3e"
      },
      "source": [
        "df1"
      ],
      "execution_count": 30,
      "outputs": [
        {
          "output_type": "execute_result",
          "data": {
            "text/plain": [
              "0       52.90\n",
              "1       54.50\n",
              "2       53.00\n",
              "3       51.00\n",
              "4       49.50\n",
              "        ...  \n",
              "4804    81.65\n",
              "4805    83.50\n",
              "4806    82.35\n",
              "4807    80.75\n",
              "4808    81.20\n",
              "Name: Close, Length: 4809, dtype: float64"
            ]
          },
          "metadata": {
            "tags": []
          },
          "execution_count": 30
        }
      ]
    },
    {
      "cell_type": "code",
      "metadata": {
        "id": "AaptmpnrIhfZ",
        "colab_type": "code",
        "colab": {
          "base_uri": "https://localhost:8080/",
          "height": 34
        },
        "outputId": "f652a2e6-0665-4072-8a6c-f47f2c3d94fb"
      },
      "source": [
        "df1.shape"
      ],
      "execution_count": 33,
      "outputs": [
        {
          "output_type": "execute_result",
          "data": {
            "text/plain": [
              "(4809,)"
            ]
          },
          "metadata": {
            "tags": []
          },
          "execution_count": 33
        }
      ]
    },
    {
      "cell_type": "code",
      "metadata": {
        "id": "OE_CZAWUBK3L",
        "colab_type": "code",
        "colab": {
          "base_uri": "https://localhost:8080/",
          "height": 282
        },
        "outputId": "828d7d45-7395-452c-ddfa-6bfc234aa56b"
      },
      "source": [
        "import matplotlib.pyplot as plt\n",
        "plt.plot(df1)"
      ],
      "execution_count": 31,
      "outputs": [
        {
          "output_type": "execute_result",
          "data": {
            "text/plain": [
              "[<matplotlib.lines.Line2D at 0x7fae056295c0>]"
            ]
          },
          "metadata": {
            "tags": []
          },
          "execution_count": 31
        },
        {
          "output_type": "display_data",
          "data": {
            "image/png": "[encoded data removed]",
            "text/plain": [
              "<Figure size 432x288 with 1 Axes>"
            ]
          },
          "metadata": {
            "tags": [],
            "needs_background": "light"
          }
        }
      ]
    },
    {
      "cell_type": "code",
      "metadata": {
        "id": "7GAFQ14IBK3P",
        "colab_type": "code",
        "colab": {}
      },
      "source": [
        "### LSTM are sensitive to the scale of the data. so we apply MinMax scaler "
      ],
      "execution_count": 0,
      "outputs": []
    },
    {
      "cell_type": "code",
      "metadata": {
        "id": "SwK1clWlBK3T",
        "colab_type": "code",
        "colab": {}
      },
      "source": [
        "import numpy as np"
      ],
      "execution_count": 0,
      "outputs": []
    },
    {
      "cell_type": "code",
      "metadata": {
        "id": "azD6ikMRBK3W",
        "colab_type": "code",
        "colab": {},
        "outputId": "f7a7e094-eeb5-4d3d-e5a5-725df1c19633"
      },
      "source": [
        "df1"
      ],
      "execution_count": 0,
      "outputs": [
        {
          "output_type": "execute_result",
          "data": {
            "text/plain": [
              "0       132.045\n",
              "1       131.780\n",
              "2       130.280\n",
              "3       130.535\n",
              "4       129.960\n",
              "         ...   \n",
              "1253    314.960\n",
              "1254    313.140\n",
              "1255    319.230\n",
              "1256    316.850\n",
              "1257    318.890\n",
              "Name: close, Length: 1258, dtype: float64"
            ]
          },
          "metadata": {
            "tags": []
          },
          "execution_count": 414
        }
      ]
    },
    {
      "cell_type": "code",
      "metadata": {
        "id": "CUQMnb40BK3Z",
        "colab_type": "code",
        "colab": {}
      },
      "source": [
        "from sklearn.preprocessing import MinMaxScaler\n",
        "scaler=MinMaxScaler(feature_range=(0,1))\n",
        "df1=scaler.fit_transform(np.array(df1).reshape(-1,1))"
      ],
      "execution_count": 0,
      "outputs": []
    },
    {
      "cell_type": "code",
      "metadata": {
        "id": "uSCTfXOvBK3d",
        "colab_type": "code",
        "colab": {
          "base_uri": "https://localhost:8080/",
          "height": 134
        },
        "outputId": "8cadcf8d-e799-434f-e0fd-d86ae37d607a"
      },
      "source": [
        "print(df1)"
      ],
      "execution_count": 36,
      "outputs": [
        {
          "output_type": "stream",
          "text": [
            "[[0.0568025 ]\n",
            " [0.0591269 ]\n",
            " [0.05694777]\n",
            " ...\n",
            " [0.09958597]\n",
            " [0.09726157]\n",
            " [0.0979153 ]]\n"
          ],
          "name": "stdout"
        }
      ]
    },
    {
      "cell_type": "code",
      "metadata": {
        "id": "2UQHJdewBK3g",
        "colab_type": "code",
        "colab": {}
      },
      "source": [
        "##splitting dataset into train and test split\n",
        "training_size=int(len(df1)*0.65)\n",
        "test_size=len(df1)-training_size\n",
        "train_data,test_data=df1[0:training_size,:],df1[training_size:len(df1),:1]"
      ],
      "execution_count": 0,
      "outputs": []
    },
    {
      "cell_type": "code",
      "metadata": {
        "id": "qv4BqKo-BK3j",
        "colab_type": "code",
        "colab": {
          "base_uri": "https://localhost:8080/",
          "height": 34
        },
        "outputId": "b89174e6-27cd-4548-c5dc-b0b11b8b3ed3"
      },
      "source": [
        "training_size,test_size"
      ],
      "execution_count": 38,
      "outputs": [
        {
          "output_type": "execute_result",
          "data": {
            "text/plain": [
              "(3125, 1684)"
            ]
          },
          "metadata": {
            "tags": []
          },
          "execution_count": 38
        }
      ]
    },
    {
      "cell_type": "code",
      "metadata": {
        "id": "f7ZaCjWKBK3m",
        "colab_type": "code",
        "colab": {
          "base_uri": "https://localhost:8080/",
          "height": 134
        },
        "outputId": "2239d581-4860-4f23-f682-42a8bce7aa1b"
      },
      "source": [
        "train_data"
      ],
      "execution_count": 42,
      "outputs": [
        {
          "output_type": "execute_result",
          "data": {
            "text/plain": [
              "array([[0.0568025 ],\n",
              "       [0.0591269 ],\n",
              "       [0.05694777],\n",
              "       ...,\n",
              "       [0.17207816],\n",
              "       [0.16989903],\n",
              "       [0.16546815]])"
            ]
          },
          "metadata": {
            "tags": []
          },
          "execution_count": 42
        }
      ]
    },
    {
      "cell_type": "code",
      "metadata": {
        "id": "bC33-YpjBK3p",
        "colab_type": "code",
        "colab": {}
      },
      "source": [
        "import numpy\n",
        "# convert an array of values into a dataset matrix\n",
        "def create_dataset(dataset, time_step=1):\n",
        "\tdataX, dataY = [], []\n",
        "\tfor i in range(len(dataset)-time_step-1):\n",
        "\t\ta = dataset[i:(i+time_step), 0]   ###i=0, 0,1,2,3-----99   100 \n",
        "\t\tdataX.append(a)\n",
        "\t\tdataY.append(dataset[i + time_step, 0])\n",
        "\treturn numpy.array(dataX), numpy.array(dataY)"
      ],
      "execution_count": 0,
      "outputs": []
    },
    {
      "cell_type": "code",
      "metadata": {
        "id": "TaQqVsXPBK3s",
        "colab_type": "code",
        "colab": {}
      },
      "source": [
        "# reshape into X=t,t+1,t+2,t+3 and Y=t+4\n",
        "time_step = 100\n",
        "X_train, y_train = create_dataset(train_data, time_step)\n",
        "X_test, ytest = create_dataset(test_data, time_step)"
      ],
      "execution_count": 0,
      "outputs": []
    },
    {
      "cell_type": "code",
      "metadata": {
        "id": "10Hqm_anBK3v",
        "colab_type": "code",
        "colab": {
          "base_uri": "https://localhost:8080/",
          "height": 67
        },
        "outputId": "e9f9cabf-d9ce-47e4-8b86-a9f0707a3840"
      },
      "source": [
        "print(X_train.shape), print(y_train.shape)"
      ],
      "execution_count": 46,
      "outputs": [
        {
          "output_type": "stream",
          "text": [
            "(3024, 100)\n",
            "(3024,)\n"
          ],
          "name": "stdout"
        },
        {
          "output_type": "execute_result",
          "data": {
            "text/plain": [
              "(None, None)"
            ]
          },
          "metadata": {
            "tags": []
          },
          "execution_count": 46
        }
      ]
    },
    {
      "cell_type": "code",
      "metadata": {
        "id": "UDUkx-qnBK3z",
        "colab_type": "code",
        "colab": {
          "base_uri": "https://localhost:8080/",
          "height": 67
        },
        "outputId": "21532f59-11bc-43e1-a96f-aa34449daa58"
      },
      "source": [
        "print(X_test.shape), print(ytest.shape)"
      ],
      "execution_count": 47,
      "outputs": [
        {
          "output_type": "stream",
          "text": [
            "(1583, 100)\n",
            "(1583,)\n"
          ],
          "name": "stdout"
        },
        {
          "output_type": "execute_result",
          "data": {
            "text/plain": [
              "(None, None)"
            ]
          },
          "metadata": {
            "tags": []
          },
          "execution_count": 47
        }
      ]
    },
    {
      "cell_type": "code",
      "metadata": {
        "id": "BPhAcrs6BK32",
        "colab_type": "code",
        "colab": {}
      },
      "source": [
        "# reshape input to be [samples, time steps, features] which is required for LSTM\n",
        "X_train =X_train.reshape(X_train.shape[0],X_train.shape[1] , 1)\n",
        "X_test = X_test.reshape(X_test.shape[0],X_test.shape[1] , 1)"
      ],
      "execution_count": 0,
      "outputs": []
    },
    {
      "cell_type": "code",
      "metadata": {
        "id": "FGu0DlDJBK36",
        "colab_type": "code",
        "colab": {}
      },
      "source": [
        "### Create the Stacked LSTM model\n",
        "from tensorflow.keras.models import Sequential\n",
        "from tensorflow.keras.layers import Dense\n",
        "from tensorflow.keras.layers import LSTM"
      ],
      "execution_count": 0,
      "outputs": []
    },
    {
      "cell_type": "code",
      "metadata": {
        "id": "vERZIn-vBK4A",
        "colab_type": "code",
        "colab": {}
      },
      "source": [
        "model=Sequential()\n",
        "model.add(LSTM(50,return_sequences=True,input_shape=(100,1)))\n",
        "model.add(LSTM(50,return_sequences=True))\n",
        "model.add(LSTM(50))\n",
        "model.add(Dense(1))\n",
        "model.compile(loss='mean_squared_error',optimizer='adam')\n"
      ],
      "execution_count": 0,
      "outputs": []
    },
    {
      "cell_type": "code",
      "metadata": {
        "id": "I_RETu9RBK4F",
        "colab_type": "code",
        "colab": {
          "base_uri": "https://localhost:8080/",
          "height": 286
        },
        "outputId": "b1846209-df2c-4520-edef-c69b1001629c"
      },
      "source": [
        "model.summary()"
      ],
      "execution_count": 51,
      "outputs": [
        {
          "output_type": "stream",
          "text": [
            "Model: \"sequential\"\n",
            "_________________________________________________________________\n",
            "Layer (type)                 Output Shape              Param #   \n",
            "=================================================================\n",
            "lstm (LSTM)                  (None, 100, 50)           10400     \n",
            "_________________________________________________________________\n",
            "lstm_1 (LSTM)                (None, 100, 50)           20200     \n",
            "_________________________________________________________________\n",
            "lstm_2 (LSTM)                (None, 50)                20200     \n",
            "_________________________________________________________________\n",
            "dense (Dense)                (None, 1)                 51        \n",
            "=================================================================\n",
            "Total params: 50,851\n",
            "Trainable params: 50,851\n",
            "Non-trainable params: 0\n",
            "_________________________________________________________________\n"
          ],
          "name": "stdout"
        }
      ]
    },
    {
      "cell_type": "code",
      "metadata": {
        "id": "x5K9wEepBK4I",
        "colab_type": "code",
        "colab": {
          "base_uri": "https://localhost:8080/",
          "height": 286
        },
        "outputId": "1c6703d2-c1e4-428e-ee54-8ccdd4d8e99f"
      },
      "source": [
        "model.summary()"
      ],
      "execution_count": 52,
      "outputs": [
        {
          "output_type": "stream",
          "text": [
            "Model: \"sequential\"\n",
            "_________________________________________________________________\n",
            "Layer (type)                 Output Shape              Param #   \n",
            "=================================================================\n",
            "lstm (LSTM)                  (None, 100, 50)           10400     \n",
            "_________________________________________________________________\n",
            "lstm_1 (LSTM)                (None, 100, 50)           20200     \n",
            "_________________________________________________________________\n",
            "lstm_2 (LSTM)                (None, 50)                20200     \n",
            "_________________________________________________________________\n",
            "dense (Dense)                (None, 1)                 51        \n",
            "=================================================================\n",
            "Total params: 50,851\n",
            "Trainable params: 50,851\n",
            "Non-trainable params: 0\n",
            "_________________________________________________________________\n"
          ],
          "name": "stdout"
        }
      ]
    },
    {
      "cell_type": "code",
      "metadata": {
        "id": "Ur4Q5b7_BK4L",
        "colab_type": "code",
        "colab": {}
      },
      "source": [
        ""
      ],
      "execution_count": 0,
      "outputs": []
    },
    {
      "cell_type": "code",
      "metadata": {
        "id": "H2mZEiEeBK4O",
        "colab_type": "code",
        "colab": {
          "base_uri": "https://localhost:8080/",
          "height": 1000
        },
        "outputId": "b2a304b9-955e-46b0-acd5-c75ce4379018"
      },
      "source": [
        "model.fit(X_train,y_train,validation_data=(X_test,ytest),epochs=100,batch_size=64,verbose=1)"
      ],
      "execution_count": 53,
      "outputs": [
        {
          "output_type": "stream",
          "text": [
            "Epoch 1/100\n",
            "48/48 [==============================] - 11s 234ms/step - loss: 0.0088 - val_loss: 4.6825e-04\n",
            "Epoch 2/100\n",
            "48/48 [==============================] - 11s 226ms/step - loss: 0.0027 - val_loss: 3.8314e-04\n",
            "Epoch 3/100\n",
            "48/48 [==============================] - 11s 226ms/step - loss: 0.0022 - val_loss: 8.3503e-04\n",
            "Epoch 4/100\n",
            "48/48 [==============================] - 13s 273ms/step - loss: 0.0023 - val_loss: 3.3491e-04\n",
            "Epoch 5/100\n",
            "48/48 [==============================] - 12s 246ms/step - loss: 0.0018 - val_loss: 2.5432e-04\n",
            "Epoch 6/100\n",
            "48/48 [==============================] - 11s 226ms/step - loss: 0.0016 - val_loss: 2.3641e-04\n",
            "Epoch 7/100\n",
            "48/48 [==============================] - 11s 227ms/step - loss: 0.0015 - val_loss: 2.4191e-04\n",
            "Epoch 8/100\n",
            "48/48 [==============================] - 11s 225ms/step - loss: 0.0013 - val_loss: 2.3391e-04\n",
            "Epoch 9/100\n",
            "48/48 [==============================] - 11s 226ms/step - loss: 0.0012 - val_loss: 1.9094e-04\n",
            "Epoch 10/100\n",
            "48/48 [==============================] - 11s 227ms/step - loss: 0.0012 - val_loss: 1.9539e-04\n",
            "Epoch 11/100\n",
            "48/48 [==============================] - 11s 228ms/step - loss: 0.0011 - val_loss: 1.8351e-04\n",
            "Epoch 12/100\n",
            "48/48 [==============================] - 11s 228ms/step - loss: 0.0011 - val_loss: 2.6462e-04\n",
            "Epoch 13/100\n",
            "48/48 [==============================] - 11s 228ms/step - loss: 8.8818e-04 - val_loss: 2.6308e-04\n",
            "Epoch 14/100\n",
            "48/48 [==============================] - 12s 243ms/step - loss: 9.8343e-04 - val_loss: 1.5300e-04\n",
            "Epoch 15/100\n",
            "48/48 [==============================] - 11s 231ms/step - loss: 8.0147e-04 - val_loss: 1.5512e-04\n",
            "Epoch 16/100\n",
            "48/48 [==============================] - 11s 226ms/step - loss: 7.7395e-04 - val_loss: 1.6859e-04\n",
            "Epoch 17/100\n",
            "48/48 [==============================] - 11s 227ms/step - loss: 8.7675e-04 - val_loss: 1.3021e-04\n",
            "Epoch 18/100\n",
            "48/48 [==============================] - 11s 226ms/step - loss: 7.7914e-04 - val_loss: 1.7499e-04\n",
            "Epoch 19/100\n",
            "48/48 [==============================] - 11s 226ms/step - loss: 8.4546e-04 - val_loss: 1.2305e-04\n",
            "Epoch 20/100\n",
            "48/48 [==============================] - 11s 226ms/step - loss: 6.1861e-04 - val_loss: 1.6228e-04\n",
            "Epoch 21/100\n",
            "48/48 [==============================] - 11s 227ms/step - loss: 6.5398e-04 - val_loss: 1.4825e-04\n",
            "Epoch 22/100\n",
            "48/48 [==============================] - 11s 229ms/step - loss: 7.0170e-04 - val_loss: 1.3906e-04\n",
            "Epoch 23/100\n",
            "48/48 [==============================] - 11s 228ms/step - loss: 6.0294e-04 - val_loss: 1.1891e-04\n",
            "Epoch 24/100\n",
            "48/48 [==============================] - 11s 229ms/step - loss: 5.5003e-04 - val_loss: 1.1125e-04\n",
            "Epoch 25/100\n",
            "48/48 [==============================] - 11s 226ms/step - loss: 5.9642e-04 - val_loss: 1.6946e-04\n",
            "Epoch 26/100\n",
            "48/48 [==============================] - 11s 228ms/step - loss: 5.2121e-04 - val_loss: 2.6443e-04\n",
            "Epoch 27/100\n",
            "48/48 [==============================] - 11s 227ms/step - loss: 8.3387e-04 - val_loss: 9.6451e-05\n",
            "Epoch 28/100\n",
            "48/48 [==============================] - 11s 226ms/step - loss: 5.6427e-04 - val_loss: 1.4504e-04\n",
            "Epoch 29/100\n",
            "48/48 [==============================] - 11s 224ms/step - loss: 5.0098e-04 - val_loss: 1.0287e-04\n",
            "Epoch 30/100\n",
            "48/48 [==============================] - 12s 242ms/step - loss: 5.5368e-04 - val_loss: 9.6958e-05\n",
            "Epoch 31/100\n",
            "48/48 [==============================] - 11s 238ms/step - loss: 5.4511e-04 - val_loss: 1.0840e-04\n",
            "Epoch 32/100\n",
            "48/48 [==============================] - 11s 227ms/step - loss: 5.7358e-04 - val_loss: 1.4815e-04\n",
            "Epoch 33/100\n",
            "48/48 [==============================] - 11s 228ms/step - loss: 5.1139e-04 - val_loss: 1.1782e-04\n",
            "Epoch 34/100\n",
            "48/48 [==============================] - 11s 225ms/step - loss: 5.7249e-04 - val_loss: 8.7167e-05\n",
            "Epoch 35/100\n",
            "48/48 [==============================] - 11s 231ms/step - loss: 5.2664e-04 - val_loss: 1.0038e-04\n",
            "Epoch 36/100\n",
            "48/48 [==============================] - 11s 225ms/step - loss: 5.4890e-04 - val_loss: 8.9974e-05\n",
            "Epoch 37/100\n",
            "48/48 [==============================] - 11s 226ms/step - loss: 5.0513e-04 - val_loss: 9.2693e-05\n",
            "Epoch 38/100\n",
            "48/48 [==============================] - 11s 227ms/step - loss: 5.2411e-04 - val_loss: 1.4854e-04\n",
            "Epoch 39/100\n",
            "48/48 [==============================] - 11s 224ms/step - loss: 4.7757e-04 - val_loss: 9.9654e-05\n",
            "Epoch 40/100\n",
            "48/48 [==============================] - 11s 227ms/step - loss: 4.9008e-04 - val_loss: 8.4613e-05\n",
            "Epoch 41/100\n",
            "48/48 [==============================] - 11s 235ms/step - loss: 4.8891e-04 - val_loss: 1.3751e-04\n",
            "Epoch 42/100\n",
            "48/48 [==============================] - 11s 229ms/step - loss: 4.8370e-04 - val_loss: 8.6091e-05\n",
            "Epoch 43/100\n",
            "48/48 [==============================] - 11s 227ms/step - loss: 4.5726e-04 - val_loss: 8.3877e-05\n",
            "Epoch 44/100\n",
            "48/48 [==============================] - 11s 229ms/step - loss: 5.0702e-04 - val_loss: 1.1708e-04\n",
            "Epoch 45/100\n",
            "48/48 [==============================] - 11s 226ms/step - loss: 5.3132e-04 - val_loss: 7.7118e-05\n",
            "Epoch 46/100\n",
            "48/48 [==============================] - 11s 226ms/step - loss: 4.6773e-04 - val_loss: 1.0017e-04\n",
            "Epoch 47/100\n",
            "48/48 [==============================] - 11s 228ms/step - loss: 4.7024e-04 - val_loss: 7.8846e-05\n",
            "Epoch 48/100\n",
            "48/48 [==============================] - 11s 229ms/step - loss: 5.3635e-04 - val_loss: 8.9144e-05\n",
            "Epoch 49/100\n",
            "48/48 [==============================] - 11s 229ms/step - loss: 5.0365e-04 - val_loss: 8.7644e-05\n",
            "Epoch 50/100\n",
            "48/48 [==============================] - 11s 227ms/step - loss: 4.9168e-04 - val_loss: 1.2878e-04\n",
            "Epoch 51/100\n",
            "48/48 [==============================] - 12s 240ms/step - loss: 5.1383e-04 - val_loss: 8.6706e-05\n",
            "Epoch 52/100\n",
            "48/48 [==============================] - 12s 245ms/step - loss: 4.4449e-04 - val_loss: 1.1972e-04\n",
            "Epoch 53/100\n",
            "48/48 [==============================] - 11s 227ms/step - loss: 5.3596e-04 - val_loss: 7.8895e-05\n",
            "Epoch 54/100\n",
            "48/48 [==============================] - 11s 230ms/step - loss: 4.5371e-04 - val_loss: 8.8727e-05\n",
            "Epoch 55/100\n",
            "48/48 [==============================] - 11s 229ms/step - loss: 4.3746e-04 - val_loss: 2.5502e-04\n",
            "Epoch 56/100\n",
            "48/48 [==============================] - 11s 230ms/step - loss: 4.7788e-04 - val_loss: 8.4858e-05\n",
            "Epoch 57/100\n",
            "48/48 [==============================] - 11s 230ms/step - loss: 5.0349e-04 - val_loss: 2.3397e-04\n",
            "Epoch 58/100\n",
            "48/48 [==============================] - 12s 243ms/step - loss: 4.6980e-04 - val_loss: 7.8974e-05\n",
            "Epoch 59/100\n",
            "48/48 [==============================] - 14s 290ms/step - loss: 4.5214e-04 - val_loss: 2.3604e-04\n",
            "Epoch 60/100\n",
            "48/48 [==============================] - 12s 240ms/step - loss: 4.6602e-04 - val_loss: 8.4803e-05\n",
            "Epoch 61/100\n",
            "48/48 [==============================] - 11s 225ms/step - loss: 4.5251e-04 - val_loss: 8.4891e-05\n",
            "Epoch 62/100\n",
            "48/48 [==============================] - 11s 223ms/step - loss: 4.5287e-04 - val_loss: 1.0780e-04\n",
            "Epoch 63/100\n",
            "48/48 [==============================] - 11s 226ms/step - loss: 4.5623e-04 - val_loss: 6.9615e-05\n",
            "Epoch 64/100\n",
            "48/48 [==============================] - 11s 227ms/step - loss: 4.4170e-04 - val_loss: 2.9000e-04\n",
            "Epoch 65/100\n",
            "48/48 [==============================] - 11s 230ms/step - loss: 6.8290e-04 - val_loss: 7.2926e-05\n",
            "Epoch 66/100\n",
            "48/48 [==============================] - 11s 224ms/step - loss: 4.8675e-04 - val_loss: 9.3767e-05\n",
            "Epoch 67/100\n",
            "48/48 [==============================] - 11s 235ms/step - loss: 4.6140e-04 - val_loss: 1.8085e-04\n",
            "Epoch 68/100\n",
            "48/48 [==============================] - 11s 236ms/step - loss: 4.4441e-04 - val_loss: 7.3403e-05\n",
            "Epoch 69/100\n",
            "48/48 [==============================] - 11s 238ms/step - loss: 4.8184e-04 - val_loss: 9.7243e-05\n",
            "Epoch 70/100\n",
            "48/48 [==============================] - 11s 229ms/step - loss: 4.6754e-04 - val_loss: 7.1658e-05\n",
            "Epoch 71/100\n",
            "48/48 [==============================] - 11s 227ms/step - loss: 4.6116e-04 - val_loss: 7.6099e-05\n",
            "Epoch 72/100\n",
            "48/48 [==============================] - 11s 226ms/step - loss: 4.3111e-04 - val_loss: 6.8598e-05\n",
            "Epoch 73/100\n",
            "48/48 [==============================] - 11s 227ms/step - loss: 4.2700e-04 - val_loss: 9.3390e-05\n",
            "Epoch 74/100\n",
            "48/48 [==============================] - 11s 226ms/step - loss: 4.3999e-04 - val_loss: 9.2320e-05\n",
            "Epoch 75/100\n",
            "48/48 [==============================] - 11s 228ms/step - loss: 4.4082e-04 - val_loss: 7.5797e-05\n",
            "Epoch 76/100\n",
            "48/48 [==============================] - 11s 228ms/step - loss: 5.1883e-04 - val_loss: 6.8377e-05\n",
            "Epoch 77/100\n",
            "48/48 [==============================] - 11s 227ms/step - loss: 4.3960e-04 - val_loss: 7.2470e-05\n",
            "Epoch 78/100\n",
            "48/48 [==============================] - 11s 227ms/step - loss: 4.4442e-04 - val_loss: 6.5486e-05\n",
            "Epoch 79/100\n",
            "48/48 [==============================] - 11s 226ms/step - loss: 4.5611e-04 - val_loss: 6.8780e-05\n",
            "Epoch 80/100\n",
            "48/48 [==============================] - 11s 226ms/step - loss: 4.4377e-04 - val_loss: 2.1680e-04\n",
            "Epoch 81/100\n",
            "48/48 [==============================] - 11s 228ms/step - loss: 4.4724e-04 - val_loss: 9.3197e-05\n",
            "Epoch 82/100\n",
            "48/48 [==============================] - 11s 228ms/step - loss: 5.4599e-04 - val_loss: 1.3031e-04\n",
            "Epoch 83/100\n",
            "48/48 [==============================] - 11s 225ms/step - loss: 4.8351e-04 - val_loss: 6.2755e-05\n",
            "Epoch 84/100\n",
            "48/48 [==============================] - 11s 226ms/step - loss: 4.3004e-04 - val_loss: 6.2416e-05\n",
            "Epoch 85/100\n",
            "48/48 [==============================] - 11s 230ms/step - loss: 4.5140e-04 - val_loss: 7.6878e-05\n",
            "Epoch 86/100\n",
            "48/48 [==============================] - 11s 229ms/step - loss: 4.3362e-04 - val_loss: 1.0675e-04\n",
            "Epoch 87/100\n",
            "48/48 [==============================] - 11s 231ms/step - loss: 4.3386e-04 - val_loss: 1.0097e-04\n",
            "Epoch 88/100\n",
            "48/48 [==============================] - 12s 242ms/step - loss: 4.5485e-04 - val_loss: 1.0856e-04\n",
            "Epoch 89/100\n",
            "48/48 [==============================] - 11s 238ms/step - loss: 4.4053e-04 - val_loss: 7.2489e-05\n",
            "Epoch 90/100\n",
            "48/48 [==============================] - 11s 228ms/step - loss: 4.2743e-04 - val_loss: 6.3531e-05\n",
            "Epoch 91/100\n",
            "48/48 [==============================] - 11s 228ms/step - loss: 4.1557e-04 - val_loss: 6.0946e-05\n",
            "Epoch 92/100\n",
            "48/48 [==============================] - 11s 225ms/step - loss: 4.6084e-04 - val_loss: 6.7891e-05\n",
            "Epoch 93/100\n",
            "48/48 [==============================] - 11s 227ms/step - loss: 4.7842e-04 - val_loss: 6.3220e-05\n",
            "Epoch 94/100\n",
            "48/48 [==============================] - 11s 226ms/step - loss: 4.1096e-04 - val_loss: 7.4995e-05\n",
            "Epoch 95/100\n",
            "48/48 [==============================] - 11s 228ms/step - loss: 4.2512e-04 - val_loss: 6.2851e-05\n",
            "Epoch 96/100\n",
            "48/48 [==============================] - 12s 240ms/step - loss: 4.2886e-04 - val_loss: 8.2834e-05\n",
            "Epoch 97/100\n",
            "48/48 [==============================] - 11s 225ms/step - loss: 4.2050e-04 - val_loss: 5.9392e-05\n",
            "Epoch 98/100\n",
            "48/48 [==============================] - 11s 229ms/step - loss: 4.4678e-04 - val_loss: 6.0886e-05\n",
            "Epoch 99/100\n",
            "48/48 [==============================] - 11s 231ms/step - loss: 4.3990e-04 - val_loss: 6.7091e-05\n",
            "Epoch 100/100\n",
            "48/48 [==============================] - 11s 229ms/step - loss: 4.6765e-04 - val_loss: 7.2468e-05\n"
          ],
          "name": "stdout"
        },
        {
          "output_type": "execute_result",
          "data": {
            "text/plain": [
              "<tensorflow.python.keras.callbacks.History at 0x7fadb5a165c0>"
            ]
          },
          "metadata": {
            "tags": []
          },
          "execution_count": 53
        }
      ]
    },
    {
      "cell_type": "code",
      "metadata": {
        "id": "MnZNMpZQBK4R",
        "colab_type": "code",
        "colab": {}
      },
      "source": [
        "import tensorflow as tf"
      ],
      "execution_count": 0,
      "outputs": []
    },
    {
      "cell_type": "code",
      "metadata": {
        "id": "LzoPKZ_MBK4V",
        "colab_type": "code",
        "colab": {
          "base_uri": "https://localhost:8080/",
          "height": 34
        },
        "outputId": "6ff5ca69-c3bc-4f92-8832-f65d5d9a9289"
      },
      "source": [
        "tf.__version__"
      ],
      "execution_count": 56,
      "outputs": [
        {
          "output_type": "execute_result",
          "data": {
            "text/plain": [
              "'2.2.0'"
            ]
          },
          "metadata": {
            "tags": []
          },
          "execution_count": 56
        }
      ]
    },
    {
      "cell_type": "code",
      "metadata": {
        "id": "gCNv-X9NBK4b",
        "colab_type": "code",
        "colab": {}
      },
      "source": [
        "### Lets Do the prediction and check performance metrics\n",
        "train_predict=model.predict(X_train)\n",
        "test_predict=model.predict(X_test)"
      ],
      "execution_count": 0,
      "outputs": []
    },
    {
      "cell_type": "code",
      "metadata": {
        "id": "d_NLFUtfBK4e",
        "colab_type": "code",
        "colab": {}
      },
      "source": [
        "##Transformback to original form\n",
        "train_predict=scaler.inverse_transform(train_predict)\n",
        "test_predict=scaler.inverse_transform(test_predict)"
      ],
      "execution_count": 0,
      "outputs": []
    },
    {
      "cell_type": "code",
      "metadata": {
        "id": "izI2iNIkBK4j",
        "colab_type": "code",
        "colab": {
          "base_uri": "https://localhost:8080/",
          "height": 34
        },
        "outputId": "12dd4eb2-fec9-4e6e-b7a3-dd165c0241a4"
      },
      "source": [
        "### Calculate RMSE performance metrics\n",
        "import math\n",
        "from sklearn.metrics import mean_squared_error\n",
        "math.sqrt(mean_squared_error(y_train,train_predict))"
      ],
      "execution_count": 67,
      "outputs": [
        {
          "output_type": "execute_result",
          "data": {
            "text/plain": [
              "162883.93327389925"
            ]
          },
          "metadata": {
            "tags": []
          },
          "execution_count": 67
        }
      ]
    },
    {
      "cell_type": "code",
      "metadata": {
        "id": "bhpgnOzlBK4o",
        "colab_type": "code",
        "colab": {
          "base_uri": "https://localhost:8080/",
          "height": 34
        },
        "outputId": "8f9b8cd9-23d7-403e-be82-f6854dde61aa"
      },
      "source": [
        "### Test Data RMSE\n",
        "math.sqrt(mean_squared_error(ytest,test_predict))"
      ],
      "execution_count": 68,
      "outputs": [
        {
          "output_type": "execute_result",
          "data": {
            "text/plain": [
              "110963.58645849153"
            ]
          },
          "metadata": {
            "tags": []
          },
          "execution_count": 68
        }
      ]
    },
    {
      "cell_type": "code",
      "metadata": {
        "id": "d_Itt0MtBK4s",
        "colab_type": "code",
        "colab": {
          "base_uri": "https://localhost:8080/",
          "height": 269
        },
        "outputId": "dfcec29f-fdc3-48b0-8767-001a6606b7b6"
      },
      "source": [
        "### Plotting \n",
        "# shift train predictions for plotting\n",
        "look_back=100\n",
        "trainPredictPlot = numpy.empty_like(df1)\n",
        "trainPredictPlot[:, :] = np.nan\n",
        "trainPredictPlot[look_back:len(train_predict)+look_back, :] = train_predict\n",
        "# shift test predictions for plotting\n",
        "testPredictPlot = numpy.empty_like(df1)\n",
        "testPredictPlot[:, :] = numpy.nan\n",
        "testPredictPlot[len(train_predict)+(look_back*2)+1:len(df1)-1, :] = test_predict\n",
        "# plot baseline and predictions\n",
        "plt.plot(scaler.inverse_transform(df1))\n",
        "plt.plot(trainPredictPlot)\n",
        "plt.plot(testPredictPlot)\n",
        "plt.show()"
      ],
      "execution_count": 70,
      "outputs": [
        {
          "output_type": "display_data",
          "data": {
            "image/png": "[encoded data removed]",
            "text/plain": [
              "<Figure size 432x288 with 1 Axes>"
            ]
          },
          "metadata": {
            "tags": [],
            "needs_background": "light"
          }
        }
      ]
    },
    {
      "cell_type": "code",
      "metadata": {
        "id": "LTkzMBfjBK4x",
        "colab_type": "code",
        "colab": {
          "base_uri": "https://localhost:8080/",
          "height": 34
        },
        "outputId": "3ee7b016-6bc4-4e55-d461-f88eb01eafe9"
      },
      "source": [
        "len(test_data)"
      ],
      "execution_count": 62,
      "outputs": [
        {
          "output_type": "execute_result",
          "data": {
            "text/plain": [
              "1684"
            ]
          },
          "metadata": {
            "tags": []
          },
          "execution_count": 62
        }
      ]
    },
    {
      "cell_type": "code",
      "metadata": {
        "id": "he8xBMwNBK40",
        "colab_type": "code",
        "colab": {
          "base_uri": "https://localhost:8080/",
          "height": 34
        },
        "outputId": "c9998eb5-2768-4b09-ba1f-0f45164cb8f2"
      },
      "source": [
        "x_input=test_data[1584:].reshape(1,-1)\n",
        "x_input.shape\n"
      ],
      "execution_count": 71,
      "outputs": [
        {
          "output_type": "execute_result",
          "data": {
            "text/plain": [
              "(1, 100)"
            ]
          },
          "metadata": {
            "tags": []
          },
          "execution_count": 71
        }
      ]
    },
    {
      "cell_type": "code",
      "metadata": {
        "id": "ZUKTlwnABK43",
        "colab_type": "code",
        "colab": {}
      },
      "source": [
        ""
      ],
      "execution_count": 0,
      "outputs": []
    },
    {
      "cell_type": "code",
      "metadata": {
        "id": "oo7lpgCJBK45",
        "colab_type": "code",
        "colab": {}
      },
      "source": [
        ""
      ],
      "execution_count": 0,
      "outputs": []
    },
    {
      "cell_type": "code",
      "metadata": {
        "id": "K71ezXIZBK4_",
        "colab_type": "code",
        "colab": {}
      },
      "source": [
        "temp_input=list(x_input)\n",
        "temp_input=temp_input[0].tolist()"
      ],
      "execution_count": 0,
      "outputs": []
    },
    {
      "cell_type": "code",
      "metadata": {
        "id": "lpLtXK_ZBK5D",
        "colab_type": "code",
        "colab": {
          "base_uri": "https://localhost:8080/",
          "height": 1000
        },
        "outputId": "1802f9d5-2d51-43b8-eb64-d36cd2566f5f"
      },
      "source": [
        "temp_input"
      ],
      "execution_count": 73,
      "outputs": [
        {
          "output_type": "execute_result",
          "data": {
            "text/plain": [
              "[0.08614803515653373,\n",
              " 0.08404154863078377,\n",
              " 0.08542166049248201,\n",
              " 0.08513111062686134,\n",
              " 0.08447737342921478,\n",
              " 0.08745550955182682,\n",
              " 0.08600276022372338,\n",
              " 0.08593012275731822,\n",
              " 0.0854942979588872,\n",
              " 0.08425946102999926,\n",
              " 0.08404154863078377,\n",
              " 0.08273407423549066,\n",
              " 0.09508244352436987,\n",
              " 0.10009442870632672,\n",
              " 0.1096825742718094,\n",
              " 0.10757608774605941,\n",
              " 0.10960993680540422,\n",
              " 0.11527565918500764,\n",
              " 0.1125154354616111,\n",
              " 0.10873828720854216,\n",
              " 0.11077213626788697,\n",
              " 0.11302389772644729,\n",
              " 0.11207961066318008,\n",
              " 0.1181085203748093,\n",
              " 0.11658313358030072,\n",
              " 0.11440400958814555,\n",
              " 0.11600203384905934,\n",
              " 0.12370160528800754,\n",
              " 0.1258807292801627,\n",
              " 0.12493644221689547,\n",
              " 0.12210358102709375,\n",
              " 0.12617127914578338,\n",
              " 0.10990048667102491,\n",
              " 0.10953729933899904,\n",
              " 0.11396818478971453,\n",
              " 0.11905280743807654,\n",
              " 0.11730950824435242,\n",
              " 0.11621994624827485,\n",
              " 0.10684971308200768,\n",
              " 0.1085930122757318,\n",
              " 0.08963463354398198,\n",
              " 0.08912617127914578,\n",
              " 0.07917483838163723,\n",
              " 0.0764872521246459,\n",
              " 0.06806130602164596,\n",
              " 0.05607612406479262,\n",
              " 0.06363042057093049,\n",
              " 0.055277111934335724,\n",
              " 0.05854579792256846,\n",
              " 0.06522844483184427,\n",
              " 0.06798866855524079,\n",
              " 0.06610009442870632,\n",
              " 0.06348514563812013,\n",
              " 0.06929614295053388,\n",
              " 0.06929614295053388,\n",
              " 0.0648652574998184,\n",
              " 0.06922350548412871,\n",
              " 0.06944141788334422,\n",
              " 0.07794000145274933,\n",
              " 0.0749618653301373,\n",
              " 0.07597878985980967,\n",
              " 0.07699571438948209,\n",
              " 0.0810634125081717,\n",
              " 0.0805549502433355,\n",
              " 0.07321856613641316,\n",
              " 0.07387230333405971,\n",
              " 0.07961066318006826,\n",
              " 0.08382363623156824,\n",
              " 0.08382363623156824,\n",
              " 0.08484056076124065,\n",
              " 0.08760078448463716,\n",
              " 0.08585748529091305,\n",
              " 0.07990121304568895,\n",
              " 0.07779472651993898,\n",
              " 0.08157187477300791,\n",
              " 0.08396891116437857,\n",
              " 0.08411418609718893,\n",
              " 0.08229824943705963,\n",
              " 0.08164451223941309,\n",
              " 0.08527638555967167,\n",
              " 0.08229824943705963,\n",
              " 0.08178978717222342,\n",
              " 0.07169317934190454,\n",
              " 0.07728626425510278,\n",
              " 0.0795380257136631,\n",
              " 0.09116002033849058,\n",
              " 0.08287934916830099,\n",
              " 0.08585748529091305,\n",
              " 0.09159584513692161,\n",
              " 0.08876298394711993,\n",
              " 0.08767342195104234,\n",
              " 0.09181375753613713,\n",
              " 0.09137793273770611,\n",
              " 0.08898089634633544,\n",
              " 0.09689838018449916,\n",
              " 0.09856904191181812,\n",
              " 0.10125662816880947,\n",
              " 0.09958596644149051,\n",
              " 0.09726156751652501,\n",
              " 0.09791530471417156]"
            ]
          },
          "metadata": {
            "tags": []
          },
          "execution_count": 73
        }
      ]
    },
    {
      "cell_type": "code",
      "metadata": {
        "id": "AGCqbTHyBK5G",
        "colab_type": "code",
        "colab": {
          "base_uri": "https://localhost:8080/",
          "height": 1000
        },
        "outputId": "0f3b4cac-d73d-4b66-b395-689be2eb554a"
      },
      "source": [
        "# demonstrate prediction for next 10 days\n",
        "from numpy import array\n",
        "\n",
        "lst_output=[]\n",
        "n_steps=100\n",
        "i=0\n",
        "while(i<30):\n",
        "    \n",
        "    if(len(temp_input)>100):\n",
        "        #print(temp_input)\n",
        "        x_input=np.array(temp_input[1:])\n",
        "        print(\"{} day input {}\".format(i,x_input))\n",
        "        x_input=x_input.reshape(1,-1)\n",
        "        x_input = x_input.reshape((1, n_steps, 1))\n",
        "        #print(x_input)\n",
        "        yhat = model.predict(x_input, verbose=0)\n",
        "        print(\"{} day output {}\".format(i,yhat))\n",
        "        temp_input.extend(yhat[0].tolist())\n",
        "        temp_input=temp_input[1:]\n",
        "        #print(temp_input)\n",
        "        lst_output.extend(yhat.tolist())\n",
        "        i=i+1\n",
        "    else:\n",
        "        x_input = x_input.reshape((1, n_steps,1))\n",
        "        yhat = model.predict(x_input, verbose=0)\n",
        "        print(yhat[0])\n",
        "        temp_input.extend(yhat[0].tolist())\n",
        "        print(len(temp_input))\n",
        "        lst_output.extend(yhat.tolist())\n",
        "        i=i+1\n",
        "    \n",
        "\n",
        "print(lst_output)"
      ],
      "execution_count": 74,
      "outputs": [
        {
          "output_type": "stream",
          "text": [
            "[0.09859499]\n",
            "101\n",
            "1 day input [0.08404155 0.08542166 0.08513111 0.08447737 0.08745551 0.08600276\n",
            " 0.08593012 0.0854943  0.08425946 0.08404155 0.08273407 0.09508244\n",
            " 0.10009443 0.10968257 0.10757609 0.10960994 0.11527566 0.11251544\n",
            " 0.10873829 0.11077214 0.1130239  0.11207961 0.11810852 0.11658313\n",
            " 0.11440401 0.11600203 0.12370161 0.12588073 0.12493644 0.12210358\n",
            " 0.12617128 0.10990049 0.1095373  0.11396818 0.11905281 0.11730951\n",
            " 0.11621995 0.10684971 0.10859301 0.08963463 0.08912617 0.07917484\n",
            " 0.07648725 0.06806131 0.05607612 0.06363042 0.05527711 0.0585458\n",
            " 0.06522844 0.06798867 0.06610009 0.06348515 0.06929614 0.06929614\n",
            " 0.06486526 0.06922351 0.06944142 0.07794    0.07496187 0.07597879\n",
            " 0.07699571 0.08106341 0.08055495 0.07321857 0.0738723  0.07961066\n",
            " 0.08382364 0.08382364 0.08484056 0.08760078 0.08585749 0.07990121\n",
            " 0.07779473 0.08157187 0.08396891 0.08411419 0.08229825 0.08164451\n",
            " 0.08527639 0.08229825 0.08178979 0.07169318 0.07728626 0.07953803\n",
            " 0.09116002 0.08287935 0.08585749 0.09159585 0.08876298 0.08767342\n",
            " 0.09181376 0.09137793 0.0889809  0.09689838 0.09856904 0.10125663\n",
            " 0.09958597 0.09726157 0.0979153  0.09859499]\n",
            "1 day output [[0.09828818]]\n",
            "2 day input [0.08542166 0.08513111 0.08447737 0.08745551 0.08600276 0.08593012\n",
            " 0.0854943  0.08425946 0.08404155 0.08273407 0.09508244 0.10009443\n",
            " 0.10968257 0.10757609 0.10960994 0.11527566 0.11251544 0.10873829\n",
            " 0.11077214 0.1130239  0.11207961 0.11810852 0.11658313 0.11440401\n",
            " 0.11600203 0.12370161 0.12588073 0.12493644 0.12210358 0.12617128\n",
            " 0.10990049 0.1095373  0.11396818 0.11905281 0.11730951 0.11621995\n",
            " 0.10684971 0.10859301 0.08963463 0.08912617 0.07917484 0.07648725\n",
            " 0.06806131 0.05607612 0.06363042 0.05527711 0.0585458  0.06522844\n",
            " 0.06798867 0.06610009 0.06348515 0.06929614 0.06929614 0.06486526\n",
            " 0.06922351 0.06944142 0.07794    0.07496187 0.07597879 0.07699571\n",
            " 0.08106341 0.08055495 0.07321857 0.0738723  0.07961066 0.08382364\n",
            " 0.08382364 0.08484056 0.08760078 0.08585749 0.07990121 0.07779473\n",
            " 0.08157187 0.08396891 0.08411419 0.08229825 0.08164451 0.08527639\n",
            " 0.08229825 0.08178979 0.07169318 0.07728626 0.07953803 0.09116002\n",
            " 0.08287935 0.08585749 0.09159585 0.08876298 0.08767342 0.09181376\n",
            " 0.09137793 0.0889809  0.09689838 0.09856904 0.10125663 0.09958597\n",
            " 0.09726157 0.0979153  0.09859499 0.09828818]\n",
            "2 day output [[0.09820093]]\n",
            "3 day input [0.08513111 0.08447737 0.08745551 0.08600276 0.08593012 0.0854943\n",
            " 0.08425946 0.08404155 0.08273407 0.09508244 0.10009443 0.10968257\n",
            " 0.10757609 0.10960994 0.11527566 0.11251544 0.10873829 0.11077214\n",
            " 0.1130239  0.11207961 0.11810852 0.11658313 0.11440401 0.11600203\n",
            " 0.12370161 0.12588073 0.12493644 0.12210358 0.12617128 0.10990049\n",
            " 0.1095373  0.11396818 0.11905281 0.11730951 0.11621995 0.10684971\n",
            " 0.10859301 0.08963463 0.08912617 0.07917484 0.07648725 0.06806131\n",
            " 0.05607612 0.06363042 0.05527711 0.0585458  0.06522844 0.06798867\n",
            " 0.06610009 0.06348515 0.06929614 0.06929614 0.06486526 0.06922351\n",
            " 0.06944142 0.07794    0.07496187 0.07597879 0.07699571 0.08106341\n",
            " 0.08055495 0.07321857 0.0738723  0.07961066 0.08382364 0.08382364\n",
            " 0.08484056 0.08760078 0.08585749 0.07990121 0.07779473 0.08157187\n",
            " 0.08396891 0.08411419 0.08229825 0.08164451 0.08527639 0.08229825\n",
            " 0.08178979 0.07169318 0.07728626 0.07953803 0.09116002 0.08287935\n",
            " 0.08585749 0.09159585 0.08876298 0.08767342 0.09181376 0.09137793\n",
            " 0.0889809  0.09689838 0.09856904 0.10125663 0.09958597 0.09726157\n",
            " 0.0979153  0.09859499 0.09828818 0.09820093]\n",
            "3 day output [[0.09817065]]\n",
            "4 day input [0.08447737 0.08745551 0.08600276 0.08593012 0.0854943  0.08425946\n",
            " 0.08404155 0.08273407 0.09508244 0.10009443 0.10968257 0.10757609\n",
            " 0.10960994 0.11527566 0.11251544 0.10873829 0.11077214 0.1130239\n",
            " 0.11207961 0.11810852 0.11658313 0.11440401 0.11600203 0.12370161\n",
            " 0.12588073 0.12493644 0.12210358 0.12617128 0.10990049 0.1095373\n",
            " 0.11396818 0.11905281 0.11730951 0.11621995 0.10684971 0.10859301\n",
            " 0.08963463 0.08912617 0.07917484 0.07648725 0.06806131 0.05607612\n",
            " 0.06363042 0.05527711 0.0585458  0.06522844 0.06798867 0.06610009\n",
            " 0.06348515 0.06929614 0.06929614 0.06486526 0.06922351 0.06944142\n",
            " 0.07794    0.07496187 0.07597879 0.07699571 0.08106341 0.08055495\n",
            " 0.07321857 0.0738723  0.07961066 0.08382364 0.08382364 0.08484056\n",
            " 0.08760078 0.08585749 0.07990121 0.07779473 0.08157187 0.08396891\n",
            " 0.08411419 0.08229825 0.08164451 0.08527639 0.08229825 0.08178979\n",
            " 0.07169318 0.07728626 0.07953803 0.09116002 0.08287935 0.08585749\n",
            " 0.09159585 0.08876298 0.08767342 0.09181376 0.09137793 0.0889809\n",
            " 0.09689838 0.09856904 0.10125663 0.09958597 0.09726157 0.0979153\n",
            " 0.09859499 0.09828818 0.09820093 0.09817065]\n",
            "4 day output [[0.09815834]]\n",
            "5 day input [0.08745551 0.08600276 0.08593012 0.0854943  0.08425946 0.08404155\n",
            " 0.08273407 0.09508244 0.10009443 0.10968257 0.10757609 0.10960994\n",
            " 0.11527566 0.11251544 0.10873829 0.11077214 0.1130239  0.11207961\n",
            " 0.11810852 0.11658313 0.11440401 0.11600203 0.12370161 0.12588073\n",
            " 0.12493644 0.12210358 0.12617128 0.10990049 0.1095373  0.11396818\n",
            " 0.11905281 0.11730951 0.11621995 0.10684971 0.10859301 0.08963463\n",
            " 0.08912617 0.07917484 0.07648725 0.06806131 0.05607612 0.06363042\n",
            " 0.05527711 0.0585458  0.06522844 0.06798867 0.06610009 0.06348515\n",
            " 0.06929614 0.06929614 0.06486526 0.06922351 0.06944142 0.07794\n",
            " 0.07496187 0.07597879 0.07699571 0.08106341 0.08055495 0.07321857\n",
            " 0.0738723  0.07961066 0.08382364 0.08382364 0.08484056 0.08760078\n",
            " 0.08585749 0.07990121 0.07779473 0.08157187 0.08396891 0.08411419\n",
            " 0.08229825 0.08164451 0.08527639 0.08229825 0.08178979 0.07169318\n",
            " 0.07728626 0.07953803 0.09116002 0.08287935 0.08585749 0.09159585\n",
            " 0.08876298 0.08767342 0.09181376 0.09137793 0.0889809  0.09689838\n",
            " 0.09856904 0.10125663 0.09958597 0.09726157 0.0979153  0.09859499\n",
            " 0.09828818 0.09820093 0.09817065 0.09815834]\n",
            "5 day output [[0.09815573]]\n",
            "6 day input [0.08600276 0.08593012 0.0854943  0.08425946 0.08404155 0.08273407\n",
            " 0.09508244 0.10009443 0.10968257 0.10757609 0.10960994 0.11527566\n",
            " 0.11251544 0.10873829 0.11077214 0.1130239  0.11207961 0.11810852\n",
            " 0.11658313 0.11440401 0.11600203 0.12370161 0.12588073 0.12493644\n",
            " 0.12210358 0.12617128 0.10990049 0.1095373  0.11396818 0.11905281\n",
            " 0.11730951 0.11621995 0.10684971 0.10859301 0.08963463 0.08912617\n",
            " 0.07917484 0.07648725 0.06806131 0.05607612 0.06363042 0.05527711\n",
            " 0.0585458  0.06522844 0.06798867 0.06610009 0.06348515 0.06929614\n",
            " 0.06929614 0.06486526 0.06922351 0.06944142 0.07794    0.07496187\n",
            " 0.07597879 0.07699571 0.08106341 0.08055495 0.07321857 0.0738723\n",
            " 0.07961066 0.08382364 0.08382364 0.08484056 0.08760078 0.08585749\n",
            " 0.07990121 0.07779473 0.08157187 0.08396891 0.08411419 0.08229825\n",
            " 0.08164451 0.08527639 0.08229825 0.08178979 0.07169318 0.07728626\n",
            " 0.07953803 0.09116002 0.08287935 0.08585749 0.09159585 0.08876298\n",
            " 0.08767342 0.09181376 0.09137793 0.0889809  0.09689838 0.09856904\n",
            " 0.10125663 0.09958597 0.09726157 0.0979153  0.09859499 0.09828818\n",
            " 0.09820093 0.09817065 0.09815834 0.09815573]\n",
            "6 day output [[0.09815929]]\n",
            "7 day input [0.08593012 0.0854943  0.08425946 0.08404155 0.08273407 0.09508244\n",
            " 0.10009443 0.10968257 0.10757609 0.10960994 0.11527566 0.11251544\n",
            " 0.10873829 0.11077214 0.1130239  0.11207961 0.11810852 0.11658313\n",
            " 0.11440401 0.11600203 0.12370161 0.12588073 0.12493644 0.12210358\n",
            " 0.12617128 0.10990049 0.1095373  0.11396818 0.11905281 0.11730951\n",
            " 0.11621995 0.10684971 0.10859301 0.08963463 0.08912617 0.07917484\n",
            " 0.07648725 0.06806131 0.05607612 0.06363042 0.05527711 0.0585458\n",
            " 0.06522844 0.06798867 0.06610009 0.06348515 0.06929614 0.06929614\n",
            " 0.06486526 0.06922351 0.06944142 0.07794    0.07496187 0.07597879\n",
            " 0.07699571 0.08106341 0.08055495 0.07321857 0.0738723  0.07961066\n",
            " 0.08382364 0.08382364 0.08484056 0.08760078 0.08585749 0.07990121\n",
            " 0.07779473 0.08157187 0.08396891 0.08411419 0.08229825 0.08164451\n",
            " 0.08527639 0.08229825 0.08178979 0.07169318 0.07728626 0.07953803\n",
            " 0.09116002 0.08287935 0.08585749 0.09159585 0.08876298 0.08767342\n",
            " 0.09181376 0.09137793 0.0889809  0.09689838 0.09856904 0.10125663\n",
            " 0.09958597 0.09726157 0.0979153  0.09859499 0.09828818 0.09820093\n",
            " 0.09817065 0.09815834 0.09815573 0.09815929]\n",
            "7 day output [[0.0981665]]\n",
            "8 day input [0.0854943  0.08425946 0.08404155 0.08273407 0.09508244 0.10009443\n",
            " 0.10968257 0.10757609 0.10960994 0.11527566 0.11251544 0.10873829\n",
            " 0.11077214 0.1130239  0.11207961 0.11810852 0.11658313 0.11440401\n",
            " 0.11600203 0.12370161 0.12588073 0.12493644 0.12210358 0.12617128\n",
            " 0.10990049 0.1095373  0.11396818 0.11905281 0.11730951 0.11621995\n",
            " 0.10684971 0.10859301 0.08963463 0.08912617 0.07917484 0.07648725\n",
            " 0.06806131 0.05607612 0.06363042 0.05527711 0.0585458  0.06522844\n",
            " 0.06798867 0.06610009 0.06348515 0.06929614 0.06929614 0.06486526\n",
            " 0.06922351 0.06944142 0.07794    0.07496187 0.07597879 0.07699571\n",
            " 0.08106341 0.08055495 0.07321857 0.0738723  0.07961066 0.08382364\n",
            " 0.08382364 0.08484056 0.08760078 0.08585749 0.07990121 0.07779473\n",
            " 0.08157187 0.08396891 0.08411419 0.08229825 0.08164451 0.08527639\n",
            " 0.08229825 0.08178979 0.07169318 0.07728626 0.07953803 0.09116002\n",
            " 0.08287935 0.08585749 0.09159585 0.08876298 0.08767342 0.09181376\n",
            " 0.09137793 0.0889809  0.09689838 0.09856904 0.10125663 0.09958597\n",
            " 0.09726157 0.0979153  0.09859499 0.09828818 0.09820093 0.09817065\n",
            " 0.09815834 0.09815573 0.09815929 0.0981665 ]\n",
            "8 day output [[0.098176]]\n",
            "9 day input [0.08425946 0.08404155 0.08273407 0.09508244 0.10009443 0.10968257\n",
            " 0.10757609 0.10960994 0.11527566 0.11251544 0.10873829 0.11077214\n",
            " 0.1130239  0.11207961 0.11810852 0.11658313 0.11440401 0.11600203\n",
            " 0.12370161 0.12588073 0.12493644 0.12210358 0.12617128 0.10990049\n",
            " 0.1095373  0.11396818 0.11905281 0.11730951 0.11621995 0.10684971\n",
            " 0.10859301 0.08963463 0.08912617 0.07917484 0.07648725 0.06806131\n",
            " 0.05607612 0.06363042 0.05527711 0.0585458  0.06522844 0.06798867\n",
            " 0.06610009 0.06348515 0.06929614 0.06929614 0.06486526 0.06922351\n",
            " 0.06944142 0.07794    0.07496187 0.07597879 0.07699571 0.08106341\n",
            " 0.08055495 0.07321857 0.0738723  0.07961066 0.08382364 0.08382364\n",
            " 0.08484056 0.08760078 0.08585749 0.07990121 0.07779473 0.08157187\n",
            " 0.08396891 0.08411419 0.08229825 0.08164451 0.08527639 0.08229825\n",
            " 0.08178979 0.07169318 0.07728626 0.07953803 0.09116002 0.08287935\n",
            " 0.08585749 0.09159585 0.08876298 0.08767342 0.09181376 0.09137793\n",
            " 0.0889809  0.09689838 0.09856904 0.10125663 0.09958597 0.09726157\n",
            " 0.0979153  0.09859499 0.09828818 0.09820093 0.09817065 0.09815834\n",
            " 0.09815573 0.09815929 0.0981665  0.098176  ]\n",
            "9 day output [[0.09818752]]\n",
            "10 day input [0.08404155 0.08273407 0.09508244 0.10009443 0.10968257 0.10757609\n",
            " 0.10960994 0.11527566 0.11251544 0.10873829 0.11077214 0.1130239\n",
            " 0.11207961 0.11810852 0.11658313 0.11440401 0.11600203 0.12370161\n",
            " 0.12588073 0.12493644 0.12210358 0.12617128 0.10990049 0.1095373\n",
            " 0.11396818 0.11905281 0.11730951 0.11621995 0.10684971 0.10859301\n",
            " 0.08963463 0.08912617 0.07917484 0.07648725 0.06806131 0.05607612\n",
            " 0.06363042 0.05527711 0.0585458  0.06522844 0.06798867 0.06610009\n",
            " 0.06348515 0.06929614 0.06929614 0.06486526 0.06922351 0.06944142\n",
            " 0.07794    0.07496187 0.07597879 0.07699571 0.08106341 0.08055495\n",
            " 0.07321857 0.0738723  0.07961066 0.08382364 0.08382364 0.08484056\n",
            " 0.08760078 0.08585749 0.07990121 0.07779473 0.08157187 0.08396891\n",
            " 0.08411419 0.08229825 0.08164451 0.08527639 0.08229825 0.08178979\n",
            " 0.07169318 0.07728626 0.07953803 0.09116002 0.08287935 0.08585749\n",
            " 0.09159585 0.08876298 0.08767342 0.09181376 0.09137793 0.0889809\n",
            " 0.09689838 0.09856904 0.10125663 0.09958597 0.09726157 0.0979153\n",
            " 0.09859499 0.09828818 0.09820093 0.09817065 0.09815834 0.09815573\n",
            " 0.09815929 0.0981665  0.098176   0.09818752]\n",
            "10 day output [[0.09820168]]\n",
            "11 day input [0.08273407 0.09508244 0.10009443 0.10968257 0.10757609 0.10960994\n",
            " 0.11527566 0.11251544 0.10873829 0.11077214 0.1130239  0.11207961\n",
            " 0.11810852 0.11658313 0.11440401 0.11600203 0.12370161 0.12588073\n",
            " 0.12493644 0.12210358 0.12617128 0.10990049 0.1095373  0.11396818\n",
            " 0.11905281 0.11730951 0.11621995 0.10684971 0.10859301 0.08963463\n",
            " 0.08912617 0.07917484 0.07648725 0.06806131 0.05607612 0.06363042\n",
            " 0.05527711 0.0585458  0.06522844 0.06798867 0.06610009 0.06348515\n",
            " 0.06929614 0.06929614 0.06486526 0.06922351 0.06944142 0.07794\n",
            " 0.07496187 0.07597879 0.07699571 0.08106341 0.08055495 0.07321857\n",
            " 0.0738723  0.07961066 0.08382364 0.08382364 0.08484056 0.08760078\n",
            " 0.08585749 0.07990121 0.07779473 0.08157187 0.08396891 0.08411419\n",
            " 0.08229825 0.08164451 0.08527639 0.08229825 0.08178979 0.07169318\n",
            " 0.07728626 0.07953803 0.09116002 0.08287935 0.08585749 0.09159585\n",
            " 0.08876298 0.08767342 0.09181376 0.09137793 0.0889809  0.09689838\n",
            " 0.09856904 0.10125663 0.09958597 0.09726157 0.0979153  0.09859499\n",
            " 0.09828818 0.09820093 0.09817065 0.09815834 0.09815573 0.09815929\n",
            " 0.0981665  0.098176   0.09818752 0.09820168]\n",
            "11 day output [[0.09821955]]\n",
            "12 day input [0.09508244 0.10009443 0.10968257 0.10757609 0.10960994 0.11527566\n",
            " 0.11251544 0.10873829 0.11077214 0.1130239  0.11207961 0.11810852\n",
            " 0.11658313 0.11440401 0.11600203 0.12370161 0.12588073 0.12493644\n",
            " 0.12210358 0.12617128 0.10990049 0.1095373  0.11396818 0.11905281\n",
            " 0.11730951 0.11621995 0.10684971 0.10859301 0.08963463 0.08912617\n",
            " 0.07917484 0.07648725 0.06806131 0.05607612 0.06363042 0.05527711\n",
            " 0.0585458  0.06522844 0.06798867 0.06610009 0.06348515 0.06929614\n",
            " 0.06929614 0.06486526 0.06922351 0.06944142 0.07794    0.07496187\n",
            " 0.07597879 0.07699571 0.08106341 0.08055495 0.07321857 0.0738723\n",
            " 0.07961066 0.08382364 0.08382364 0.08484056 0.08760078 0.08585749\n",
            " 0.07990121 0.07779473 0.08157187 0.08396891 0.08411419 0.08229825\n",
            " 0.08164451 0.08527639 0.08229825 0.08178979 0.07169318 0.07728626\n",
            " 0.07953803 0.09116002 0.08287935 0.08585749 0.09159585 0.08876298\n",
            " 0.08767342 0.09181376 0.09137793 0.0889809  0.09689838 0.09856904\n",
            " 0.10125663 0.09958597 0.09726157 0.0979153  0.09859499 0.09828818\n",
            " 0.09820093 0.09817065 0.09815834 0.09815573 0.09815929 0.0981665\n",
            " 0.098176   0.09818752 0.09820168 0.09821955]\n",
            "12 day output [[0.09824236]]\n",
            "13 day input [0.10009443 0.10968257 0.10757609 0.10960994 0.11527566 0.11251544\n",
            " 0.10873829 0.11077214 0.1130239  0.11207961 0.11810852 0.11658313\n",
            " 0.11440401 0.11600203 0.12370161 0.12588073 0.12493644 0.12210358\n",
            " 0.12617128 0.10990049 0.1095373  0.11396818 0.11905281 0.11730951\n",
            " 0.11621995 0.10684971 0.10859301 0.08963463 0.08912617 0.07917484\n",
            " 0.07648725 0.06806131 0.05607612 0.06363042 0.05527711 0.0585458\n",
            " 0.06522844 0.06798867 0.06610009 0.06348515 0.06929614 0.06929614\n",
            " 0.06486526 0.06922351 0.06944142 0.07794    0.07496187 0.07597879\n",
            " 0.07699571 0.08106341 0.08055495 0.07321857 0.0738723  0.07961066\n",
            " 0.08382364 0.08382364 0.08484056 0.08760078 0.08585749 0.07990121\n",
            " 0.07779473 0.08157187 0.08396891 0.08411419 0.08229825 0.08164451\n",
            " 0.08527639 0.08229825 0.08178979 0.07169318 0.07728626 0.07953803\n",
            " 0.09116002 0.08287935 0.08585749 0.09159585 0.08876298 0.08767342\n",
            " 0.09181376 0.09137793 0.0889809  0.09689838 0.09856904 0.10125663\n",
            " 0.09958597 0.09726157 0.0979153  0.09859499 0.09828818 0.09820093\n",
            " 0.09817065 0.09815834 0.09815573 0.09815929 0.0981665  0.098176\n",
            " 0.09818752 0.09820168 0.09821955 0.09824236]\n",
            "13 day output [[0.09827115]]\n",
            "14 day input [0.10968257 0.10757609 0.10960994 0.11527566 0.11251544 0.10873829\n",
            " 0.11077214 0.1130239  0.11207961 0.11810852 0.11658313 0.11440401\n",
            " 0.11600203 0.12370161 0.12588073 0.12493644 0.12210358 0.12617128\n",
            " 0.10990049 0.1095373  0.11396818 0.11905281 0.11730951 0.11621995\n",
            " 0.10684971 0.10859301 0.08963463 0.08912617 0.07917484 0.07648725\n",
            " 0.06806131 0.05607612 0.06363042 0.05527711 0.0585458  0.06522844\n",
            " 0.06798867 0.06610009 0.06348515 0.06929614 0.06929614 0.06486526\n",
            " 0.06922351 0.06944142 0.07794    0.07496187 0.07597879 0.07699571\n",
            " 0.08106341 0.08055495 0.07321857 0.0738723  0.07961066 0.08382364\n",
            " 0.08382364 0.08484056 0.08760078 0.08585749 0.07990121 0.07779473\n",
            " 0.08157187 0.08396891 0.08411419 0.08229825 0.08164451 0.08527639\n",
            " 0.08229825 0.08178979 0.07169318 0.07728626 0.07953803 0.09116002\n",
            " 0.08287935 0.08585749 0.09159585 0.08876298 0.08767342 0.09181376\n",
            " 0.09137793 0.0889809  0.09689838 0.09856904 0.10125663 0.09958597\n",
            " 0.09726157 0.0979153  0.09859499 0.09828818 0.09820093 0.09817065\n",
            " 0.09815834 0.09815573 0.09815929 0.0981665  0.098176   0.09818752\n",
            " 0.09820168 0.09821955 0.09824236 0.09827115]\n",
            "14 day output [[0.09830681]]\n",
            "15 day input [0.10757609 0.10960994 0.11527566 0.11251544 0.10873829 0.11077214\n",
            " 0.1130239  0.11207961 0.11810852 0.11658313 0.11440401 0.11600203\n",
            " 0.12370161 0.12588073 0.12493644 0.12210358 0.12617128 0.10990049\n",
            " 0.1095373  0.11396818 0.11905281 0.11730951 0.11621995 0.10684971\n",
            " 0.10859301 0.08963463 0.08912617 0.07917484 0.07648725 0.06806131\n",
            " 0.05607612 0.06363042 0.05527711 0.0585458  0.06522844 0.06798867\n",
            " 0.06610009 0.06348515 0.06929614 0.06929614 0.06486526 0.06922351\n",
            " 0.06944142 0.07794    0.07496187 0.07597879 0.07699571 0.08106341\n",
            " 0.08055495 0.07321857 0.0738723  0.07961066 0.08382364 0.08382364\n",
            " 0.08484056 0.08760078 0.08585749 0.07990121 0.07779473 0.08157187\n",
            " 0.08396891 0.08411419 0.08229825 0.08164451 0.08527639 0.08229825\n",
            " 0.08178979 0.07169318 0.07728626 0.07953803 0.09116002 0.08287935\n",
            " 0.08585749 0.09159585 0.08876298 0.08767342 0.09181376 0.09137793\n",
            " 0.0889809  0.09689838 0.09856904 0.10125663 0.09958597 0.09726157\n",
            " 0.0979153  0.09859499 0.09828818 0.09820093 0.09817065 0.09815834\n",
            " 0.09815573 0.09815929 0.0981665  0.098176   0.09818752 0.09820168\n",
            " 0.09821955 0.09824236 0.09827115 0.09830681]\n",
            "15 day output [[0.09834982]]\n",
            "16 day input [0.10960994 0.11527566 0.11251544 0.10873829 0.11077214 0.1130239\n",
            " 0.11207961 0.11810852 0.11658313 0.11440401 0.11600203 0.12370161\n",
            " 0.12588073 0.12493644 0.12210358 0.12617128 0.10990049 0.1095373\n",
            " 0.11396818 0.11905281 0.11730951 0.11621995 0.10684971 0.10859301\n",
            " 0.08963463 0.08912617 0.07917484 0.07648725 0.06806131 0.05607612\n",
            " 0.06363042 0.05527711 0.0585458  0.06522844 0.06798867 0.06610009\n",
            " 0.06348515 0.06929614 0.06929614 0.06486526 0.06922351 0.06944142\n",
            " 0.07794    0.07496187 0.07597879 0.07699571 0.08106341 0.08055495\n",
            " 0.07321857 0.0738723  0.07961066 0.08382364 0.08382364 0.08484056\n",
            " 0.08760078 0.08585749 0.07990121 0.07779473 0.08157187 0.08396891\n",
            " 0.08411419 0.08229825 0.08164451 0.08527639 0.08229825 0.08178979\n",
            " 0.07169318 0.07728626 0.07953803 0.09116002 0.08287935 0.08585749\n",
            " 0.09159585 0.08876298 0.08767342 0.09181376 0.09137793 0.0889809\n",
            " 0.09689838 0.09856904 0.10125663 0.09958597 0.09726157 0.0979153\n",
            " 0.09859499 0.09828818 0.09820093 0.09817065 0.09815834 0.09815573\n",
            " 0.09815929 0.0981665  0.098176   0.09818752 0.09820168 0.09821955\n",
            " 0.09824236 0.09827115 0.09830681 0.09834982]\n",
            "16 day output [[0.09840028]]\n",
            "17 day input [0.11527566 0.11251544 0.10873829 0.11077214 0.1130239  0.11207961\n",
            " 0.11810852 0.11658313 0.11440401 0.11600203 0.12370161 0.12588073\n",
            " 0.12493644 0.12210358 0.12617128 0.10990049 0.1095373  0.11396818\n",
            " 0.11905281 0.11730951 0.11621995 0.10684971 0.10859301 0.08963463\n",
            " 0.08912617 0.07917484 0.07648725 0.06806131 0.05607612 0.06363042\n",
            " 0.05527711 0.0585458  0.06522844 0.06798867 0.06610009 0.06348515\n",
            " 0.06929614 0.06929614 0.06486526 0.06922351 0.06944142 0.07794\n",
            " 0.07496187 0.07597879 0.07699571 0.08106341 0.08055495 0.07321857\n",
            " 0.0738723  0.07961066 0.08382364 0.08382364 0.08484056 0.08760078\n",
            " 0.08585749 0.07990121 0.07779473 0.08157187 0.08396891 0.08411419\n",
            " 0.08229825 0.08164451 0.08527639 0.08229825 0.08178979 0.07169318\n",
            " 0.07728626 0.07953803 0.09116002 0.08287935 0.08585749 0.09159585\n",
            " 0.08876298 0.08767342 0.09181376 0.09137793 0.0889809  0.09689838\n",
            " 0.09856904 0.10125663 0.09958597 0.09726157 0.0979153  0.09859499\n",
            " 0.09828818 0.09820093 0.09817065 0.09815834 0.09815573 0.09815929\n",
            " 0.0981665  0.098176   0.09818752 0.09820168 0.09821955 0.09824236\n",
            " 0.09827115 0.09830681 0.09834982 0.09840028]\n",
            "17 day output [[0.09845804]]\n",
            "18 day input [0.11251544 0.10873829 0.11077214 0.1130239  0.11207961 0.11810852\n",
            " 0.11658313 0.11440401 0.11600203 0.12370161 0.12588073 0.12493644\n",
            " 0.12210358 0.12617128 0.10990049 0.1095373  0.11396818 0.11905281\n",
            " 0.11730951 0.11621995 0.10684971 0.10859301 0.08963463 0.08912617\n",
            " 0.07917484 0.07648725 0.06806131 0.05607612 0.06363042 0.05527711\n",
            " 0.0585458  0.06522844 0.06798867 0.06610009 0.06348515 0.06929614\n",
            " 0.06929614 0.06486526 0.06922351 0.06944142 0.07794    0.07496187\n",
            " 0.07597879 0.07699571 0.08106341 0.08055495 0.07321857 0.0738723\n",
            " 0.07961066 0.08382364 0.08382364 0.08484056 0.08760078 0.08585749\n",
            " 0.07990121 0.07779473 0.08157187 0.08396891 0.08411419 0.08229825\n",
            " 0.08164451 0.08527639 0.08229825 0.08178979 0.07169318 0.07728626\n",
            " 0.07953803 0.09116002 0.08287935 0.08585749 0.09159585 0.08876298\n",
            " 0.08767342 0.09181376 0.09137793 0.0889809  0.09689838 0.09856904\n",
            " 0.10125663 0.09958597 0.09726157 0.0979153  0.09859499 0.09828818\n",
            " 0.09820093 0.09817065 0.09815834 0.09815573 0.09815929 0.0981665\n",
            " 0.098176   0.09818752 0.09820168 0.09821955 0.09824236 0.09827115\n",
            " 0.09830681 0.09834982 0.09840028 0.09845804]\n",
            "18 day output [[0.09852269]]\n",
            "19 day input [0.10873829 0.11077214 0.1130239  0.11207961 0.11810852 0.11658313\n",
            " 0.11440401 0.11600203 0.12370161 0.12588073 0.12493644 0.12210358\n",
            " 0.12617128 0.10990049 0.1095373  0.11396818 0.11905281 0.11730951\n",
            " 0.11621995 0.10684971 0.10859301 0.08963463 0.08912617 0.07917484\n",
            " 0.07648725 0.06806131 0.05607612 0.06363042 0.05527711 0.0585458\n",
            " 0.06522844 0.06798867 0.06610009 0.06348515 0.06929614 0.06929614\n",
            " 0.06486526 0.06922351 0.06944142 0.07794    0.07496187 0.07597879\n",
            " 0.07699571 0.08106341 0.08055495 0.07321857 0.0738723  0.07961066\n",
            " 0.08382364 0.08382364 0.08484056 0.08760078 0.08585749 0.07990121\n",
            " 0.07779473 0.08157187 0.08396891 0.08411419 0.08229825 0.08164451\n",
            " 0.08527639 0.08229825 0.08178979 0.07169318 0.07728626 0.07953803\n",
            " 0.09116002 0.08287935 0.08585749 0.09159585 0.08876298 0.08767342\n",
            " 0.09181376 0.09137793 0.0889809  0.09689838 0.09856904 0.10125663\n",
            " 0.09958597 0.09726157 0.0979153  0.09859499 0.09828818 0.09820093\n",
            " 0.09817065 0.09815834 0.09815573 0.09815929 0.0981665  0.098176\n",
            " 0.09818752 0.09820168 0.09821955 0.09824236 0.09827115 0.09830681\n",
            " 0.09834982 0.09840028 0.09845804 0.09852269]\n",
            "19 day output [[0.09859362]]\n",
            "20 day input [0.11077214 0.1130239  0.11207961 0.11810852 0.11658313 0.11440401\n",
            " 0.11600203 0.12370161 0.12588073 0.12493644 0.12210358 0.12617128\n",
            " 0.10990049 0.1095373  0.11396818 0.11905281 0.11730951 0.11621995\n",
            " 0.10684971 0.10859301 0.08963463 0.08912617 0.07917484 0.07648725\n",
            " 0.06806131 0.05607612 0.06363042 0.05527711 0.0585458  0.06522844\n",
            " 0.06798867 0.06610009 0.06348515 0.06929614 0.06929614 0.06486526\n",
            " 0.06922351 0.06944142 0.07794    0.07496187 0.07597879 0.07699571\n",
            " 0.08106341 0.08055495 0.07321857 0.0738723  0.07961066 0.08382364\n",
            " 0.08382364 0.08484056 0.08760078 0.08585749 0.07990121 0.07779473\n",
            " 0.08157187 0.08396891 0.08411419 0.08229825 0.08164451 0.08527639\n",
            " 0.08229825 0.08178979 0.07169318 0.07728626 0.07953803 0.09116002\n",
            " 0.08287935 0.08585749 0.09159585 0.08876298 0.08767342 0.09181376\n",
            " 0.09137793 0.0889809  0.09689838 0.09856904 0.10125663 0.09958597\n",
            " 0.09726157 0.0979153  0.09859499 0.09828818 0.09820093 0.09817065\n",
            " 0.09815834 0.09815573 0.09815929 0.0981665  0.098176   0.09818752\n",
            " 0.09820168 0.09821955 0.09824236 0.09827115 0.09830681 0.09834982\n",
            " 0.09840028 0.09845804 0.09852269 0.09859362]\n",
            "20 day output [[0.09867013]]\n",
            "21 day input [0.1130239  0.11207961 0.11810852 0.11658313 0.11440401 0.11600203\n",
            " 0.12370161 0.12588073 0.12493644 0.12210358 0.12617128 0.10990049\n",
            " 0.1095373  0.11396818 0.11905281 0.11730951 0.11621995 0.10684971\n",
            " 0.10859301 0.08963463 0.08912617 0.07917484 0.07648725 0.06806131\n",
            " 0.05607612 0.06363042 0.05527711 0.0585458  0.06522844 0.06798867\n",
            " 0.06610009 0.06348515 0.06929614 0.06929614 0.06486526 0.06922351\n",
            " 0.06944142 0.07794    0.07496187 0.07597879 0.07699571 0.08106341\n",
            " 0.08055495 0.07321857 0.0738723  0.07961066 0.08382364 0.08382364\n",
            " 0.08484056 0.08760078 0.08585749 0.07990121 0.07779473 0.08157187\n",
            " 0.08396891 0.08411419 0.08229825 0.08164451 0.08527639 0.08229825\n",
            " 0.08178979 0.07169318 0.07728626 0.07953803 0.09116002 0.08287935\n",
            " 0.08585749 0.09159585 0.08876298 0.08767342 0.09181376 0.09137793\n",
            " 0.0889809  0.09689838 0.09856904 0.10125663 0.09958597 0.09726157\n",
            " 0.0979153  0.09859499 0.09828818 0.09820093 0.09817065 0.09815834\n",
            " 0.09815573 0.09815929 0.0981665  0.098176   0.09818752 0.09820168\n",
            " 0.09821955 0.09824236 0.09827115 0.09830681 0.09834982 0.09840028\n",
            " 0.09845804 0.09852269 0.09859362 0.09867013]\n",
            "21 day output [[0.09875149]]\n",
            "22 day input [0.11207961 0.11810852 0.11658313 0.11440401 0.11600203 0.12370161\n",
            " 0.12588073 0.12493644 0.12210358 0.12617128 0.10990049 0.1095373\n",
            " 0.11396818 0.11905281 0.11730951 0.11621995 0.10684971 0.10859301\n",
            " 0.08963463 0.08912617 0.07917484 0.07648725 0.06806131 0.05607612\n",
            " 0.06363042 0.05527711 0.0585458  0.06522844 0.06798867 0.06610009\n",
            " 0.06348515 0.06929614 0.06929614 0.06486526 0.06922351 0.06944142\n",
            " 0.07794    0.07496187 0.07597879 0.07699571 0.08106341 0.08055495\n",
            " 0.07321857 0.0738723  0.07961066 0.08382364 0.08382364 0.08484056\n",
            " 0.08760078 0.08585749 0.07990121 0.07779473 0.08157187 0.08396891\n",
            " 0.08411419 0.08229825 0.08164451 0.08527639 0.08229825 0.08178979\n",
            " 0.07169318 0.07728626 0.07953803 0.09116002 0.08287935 0.08585749\n",
            " 0.09159585 0.08876298 0.08767342 0.09181376 0.09137793 0.0889809\n",
            " 0.09689838 0.09856904 0.10125663 0.09958597 0.09726157 0.0979153\n",
            " 0.09859499 0.09828818 0.09820093 0.09817065 0.09815834 0.09815573\n",
            " 0.09815929 0.0981665  0.098176   0.09818752 0.09820168 0.09821955\n",
            " 0.09824236 0.09827115 0.09830681 0.09834982 0.09840028 0.09845804\n",
            " 0.09852269 0.09859362 0.09867013 0.09875149]\n",
            "22 day output [[0.09883686]]\n",
            "23 day input [0.11810852 0.11658313 0.11440401 0.11600203 0.12370161 0.12588073\n",
            " 0.12493644 0.12210358 0.12617128 0.10990049 0.1095373  0.11396818\n",
            " 0.11905281 0.11730951 0.11621995 0.10684971 0.10859301 0.08963463\n",
            " 0.08912617 0.07917484 0.07648725 0.06806131 0.05607612 0.06363042\n",
            " 0.05527711 0.0585458  0.06522844 0.06798867 0.06610009 0.06348515\n",
            " 0.06929614 0.06929614 0.06486526 0.06922351 0.06944142 0.07794\n",
            " 0.07496187 0.07597879 0.07699571 0.08106341 0.08055495 0.07321857\n",
            " 0.0738723  0.07961066 0.08382364 0.08382364 0.08484056 0.08760078\n",
            " 0.08585749 0.07990121 0.07779473 0.08157187 0.08396891 0.08411419\n",
            " 0.08229825 0.08164451 0.08527639 0.08229825 0.08178979 0.07169318\n",
            " 0.07728626 0.07953803 0.09116002 0.08287935 0.08585749 0.09159585\n",
            " 0.08876298 0.08767342 0.09181376 0.09137793 0.0889809  0.09689838\n",
            " 0.09856904 0.10125663 0.09958597 0.09726157 0.0979153  0.09859499\n",
            " 0.09828818 0.09820093 0.09817065 0.09815834 0.09815573 0.09815929\n",
            " 0.0981665  0.098176   0.09818752 0.09820168 0.09821955 0.09824236\n",
            " 0.09827115 0.09830681 0.09834982 0.09840028 0.09845804 0.09852269\n",
            " 0.09859362 0.09867013 0.09875149 0.09883686]\n",
            "23 day output [[0.09892561]]\n",
            "24 day input [0.11658313 0.11440401 0.11600203 0.12370161 0.12588073 0.12493644\n",
            " 0.12210358 0.12617128 0.10990049 0.1095373  0.11396818 0.11905281\n",
            " 0.11730951 0.11621995 0.10684971 0.10859301 0.08963463 0.08912617\n",
            " 0.07917484 0.07648725 0.06806131 0.05607612 0.06363042 0.05527711\n",
            " 0.0585458  0.06522844 0.06798867 0.06610009 0.06348515 0.06929614\n",
            " 0.06929614 0.06486526 0.06922351 0.06944142 0.07794    0.07496187\n",
            " 0.07597879 0.07699571 0.08106341 0.08055495 0.07321857 0.0738723\n",
            " 0.07961066 0.08382364 0.08382364 0.08484056 0.08760078 0.08585749\n",
            " 0.07990121 0.07779473 0.08157187 0.08396891 0.08411419 0.08229825\n",
            " 0.08164451 0.08527639 0.08229825 0.08178979 0.07169318 0.07728626\n",
            " 0.07953803 0.09116002 0.08287935 0.08585749 0.09159585 0.08876298\n",
            " 0.08767342 0.09181376 0.09137793 0.0889809  0.09689838 0.09856904\n",
            " 0.10125663 0.09958597 0.09726157 0.0979153  0.09859499 0.09828818\n",
            " 0.09820093 0.09817065 0.09815834 0.09815573 0.09815929 0.0981665\n",
            " 0.098176   0.09818752 0.09820168 0.09821955 0.09824236 0.09827115\n",
            " 0.09830681 0.09834982 0.09840028 0.09845804 0.09852269 0.09859362\n",
            " 0.09867013 0.09875149 0.09883686 0.09892561]\n",
            "24 day output [[0.09901702]]\n",
            "25 day input [0.11440401 0.11600203 0.12370161 0.12588073 0.12493644 0.12210358\n",
            " 0.12617128 0.10990049 0.1095373  0.11396818 0.11905281 0.11730951\n",
            " 0.11621995 0.10684971 0.10859301 0.08963463 0.08912617 0.07917484\n",
            " 0.07648725 0.06806131 0.05607612 0.06363042 0.05527711 0.0585458\n",
            " 0.06522844 0.06798867 0.06610009 0.06348515 0.06929614 0.06929614\n",
            " 0.06486526 0.06922351 0.06944142 0.07794    0.07496187 0.07597879\n",
            " 0.07699571 0.08106341 0.08055495 0.07321857 0.0738723  0.07961066\n",
            " 0.08382364 0.08382364 0.08484056 0.08760078 0.08585749 0.07990121\n",
            " 0.07779473 0.08157187 0.08396891 0.08411419 0.08229825 0.08164451\n",
            " 0.08527639 0.08229825 0.08178979 0.07169318 0.07728626 0.07953803\n",
            " 0.09116002 0.08287935 0.08585749 0.09159585 0.08876298 0.08767342\n",
            " 0.09181376 0.09137793 0.0889809  0.09689838 0.09856904 0.10125663\n",
            " 0.09958597 0.09726157 0.0979153  0.09859499 0.09828818 0.09820093\n",
            " 0.09817065 0.09815834 0.09815573 0.09815929 0.0981665  0.098176\n",
            " 0.09818752 0.09820168 0.09821955 0.09824236 0.09827115 0.09830681\n",
            " 0.09834982 0.09840028 0.09845804 0.09852269 0.09859362 0.09867013\n",
            " 0.09875149 0.09883686 0.09892561 0.09901702]\n",
            "25 day output [[0.09911052]]\n",
            "26 day input [0.11600203 0.12370161 0.12588073 0.12493644 0.12210358 0.12617128\n",
            " 0.10990049 0.1095373  0.11396818 0.11905281 0.11730951 0.11621995\n",
            " 0.10684971 0.10859301 0.08963463 0.08912617 0.07917484 0.07648725\n",
            " 0.06806131 0.05607612 0.06363042 0.05527711 0.0585458  0.06522844\n",
            " 0.06798867 0.06610009 0.06348515 0.06929614 0.06929614 0.06486526\n",
            " 0.06922351 0.06944142 0.07794    0.07496187 0.07597879 0.07699571\n",
            " 0.08106341 0.08055495 0.07321857 0.0738723  0.07961066 0.08382364\n",
            " 0.08382364 0.08484056 0.08760078 0.08585749 0.07990121 0.07779473\n",
            " 0.08157187 0.08396891 0.08411419 0.08229825 0.08164451 0.08527639\n",
            " 0.08229825 0.08178979 0.07169318 0.07728626 0.07953803 0.09116002\n",
            " 0.08287935 0.08585749 0.09159585 0.08876298 0.08767342 0.09181376\n",
            " 0.09137793 0.0889809  0.09689838 0.09856904 0.10125663 0.09958597\n",
            " 0.09726157 0.0979153  0.09859499 0.09828818 0.09820093 0.09817065\n",
            " 0.09815834 0.09815573 0.09815929 0.0981665  0.098176   0.09818752\n",
            " 0.09820168 0.09821955 0.09824236 0.09827115 0.09830681 0.09834982\n",
            " 0.09840028 0.09845804 0.09852269 0.09859362 0.09867013 0.09875149\n",
            " 0.09883686 0.09892561 0.09901702 0.09911052]\n",
            "26 day output [[0.09920554]]\n",
            "27 day input [0.12370161 0.12588073 0.12493644 0.12210358 0.12617128 0.10990049\n",
            " 0.1095373  0.11396818 0.11905281 0.11730951 0.11621995 0.10684971\n",
            " 0.10859301 0.08963463 0.08912617 0.07917484 0.07648725 0.06806131\n",
            " 0.05607612 0.06363042 0.05527711 0.0585458  0.06522844 0.06798867\n",
            " 0.06610009 0.06348515 0.06929614 0.06929614 0.06486526 0.06922351\n",
            " 0.06944142 0.07794    0.07496187 0.07597879 0.07699571 0.08106341\n",
            " 0.08055495 0.07321857 0.0738723  0.07961066 0.08382364 0.08382364\n",
            " 0.08484056 0.08760078 0.08585749 0.07990121 0.07779473 0.08157187\n",
            " 0.08396891 0.08411419 0.08229825 0.08164451 0.08527639 0.08229825\n",
            " 0.08178979 0.07169318 0.07728626 0.07953803 0.09116002 0.08287935\n",
            " 0.08585749 0.09159585 0.08876298 0.08767342 0.09181376 0.09137793\n",
            " 0.0889809  0.09689838 0.09856904 0.10125663 0.09958597 0.09726157\n",
            " 0.0979153  0.09859499 0.09828818 0.09820093 0.09817065 0.09815834\n",
            " 0.09815573 0.09815929 0.0981665  0.098176   0.09818752 0.09820168\n",
            " 0.09821955 0.09824236 0.09827115 0.09830681 0.09834982 0.09840028\n",
            " 0.09845804 0.09852269 0.09859362 0.09867013 0.09875149 0.09883686\n",
            " 0.09892561 0.09901702 0.09911052 0.09920554]\n",
            "27 day output [[0.0993017]]\n",
            "28 day input [0.12588073 0.12493644 0.12210358 0.12617128 0.10990049 0.1095373\n",
            " 0.11396818 0.11905281 0.11730951 0.11621995 0.10684971 0.10859301\n",
            " 0.08963463 0.08912617 0.07917484 0.07648725 0.06806131 0.05607612\n",
            " 0.06363042 0.05527711 0.0585458  0.06522844 0.06798867 0.06610009\n",
            " 0.06348515 0.06929614 0.06929614 0.06486526 0.06922351 0.06944142\n",
            " 0.07794    0.07496187 0.07597879 0.07699571 0.08106341 0.08055495\n",
            " 0.07321857 0.0738723  0.07961066 0.08382364 0.08382364 0.08484056\n",
            " 0.08760078 0.08585749 0.07990121 0.07779473 0.08157187 0.08396891\n",
            " 0.08411419 0.08229825 0.08164451 0.08527639 0.08229825 0.08178979\n",
            " 0.07169318 0.07728626 0.07953803 0.09116002 0.08287935 0.08585749\n",
            " 0.09159585 0.08876298 0.08767342 0.09181376 0.09137793 0.0889809\n",
            " 0.09689838 0.09856904 0.10125663 0.09958597 0.09726157 0.0979153\n",
            " 0.09859499 0.09828818 0.09820093 0.09817065 0.09815834 0.09815573\n",
            " 0.09815929 0.0981665  0.098176   0.09818752 0.09820168 0.09821955\n",
            " 0.09824236 0.09827115 0.09830681 0.09834982 0.09840028 0.09845804\n",
            " 0.09852269 0.09859362 0.09867013 0.09875149 0.09883686 0.09892561\n",
            " 0.09901702 0.09911052 0.09920554 0.0993017 ]\n",
            "28 day output [[0.09939861]]\n",
            "29 day input [0.12493644 0.12210358 0.12617128 0.10990049 0.1095373  0.11396818\n",
            " 0.11905281 0.11730951 0.11621995 0.10684971 0.10859301 0.08963463\n",
            " 0.08912617 0.07917484 0.07648725 0.06806131 0.05607612 0.06363042\n",
            " 0.05527711 0.0585458  0.06522844 0.06798867 0.06610009 0.06348515\n",
            " 0.06929614 0.06929614 0.06486526 0.06922351 0.06944142 0.07794\n",
            " 0.07496187 0.07597879 0.07699571 0.08106341 0.08055495 0.07321857\n",
            " 0.0738723  0.07961066 0.08382364 0.08382364 0.08484056 0.08760078\n",
            " 0.08585749 0.07990121 0.07779473 0.08157187 0.08396891 0.08411419\n",
            " 0.08229825 0.08164451 0.08527639 0.08229825 0.08178979 0.07169318\n",
            " 0.07728626 0.07953803 0.09116002 0.08287935 0.08585749 0.09159585\n",
            " 0.08876298 0.08767342 0.09181376 0.09137793 0.0889809  0.09689838\n",
            " 0.09856904 0.10125663 0.09958597 0.09726157 0.0979153  0.09859499\n",
            " 0.09828818 0.09820093 0.09817065 0.09815834 0.09815573 0.09815929\n",
            " 0.0981665  0.098176   0.09818752 0.09820168 0.09821955 0.09824236\n",
            " 0.09827115 0.09830681 0.09834982 0.09840028 0.09845804 0.09852269\n",
            " 0.09859362 0.09867013 0.09875149 0.09883686 0.09892561 0.09901702\n",
            " 0.09911052 0.09920554 0.0993017  0.09939861]\n",
            "29 day output [[0.099496]]\n",
            "[[0.09859498590230942], [0.09828817844390869], [0.09820093214511871], [0.09817064553499222], [0.0981583371758461], [0.09815572947263718], [0.0981592908501625], [0.09816650301218033], [0.09817599505186081], [0.09818752110004425], [0.098201684653759], [0.09821955114603043], [0.0982423648238182], [0.09827115386724472], [0.0983068123459816], [0.09834981709718704], [0.09840027987957001], [0.09845804423093796], [0.09852268546819687], [0.09859362244606018], [0.09867013245820999], [0.0987514853477478], [0.09883686155080795], [0.09892561286687851], [0.09901701658964157], [0.09911052137613297], [0.09920553863048553], [0.09930169582366943], [0.09939860552549362], [0.09949599951505661]]\n"
          ],
          "name": "stdout"
        }
      ]
    },
    {
      "cell_type": "code",
      "metadata": {
        "id": "snriMXKsBK5M",
        "colab_type": "code",
        "colab": {}
      },
      "source": [
        "day_new=np.arange(1,101)\n",
        "day_pred=np.arange(101,131)"
      ],
      "execution_count": 0,
      "outputs": []
    },
    {
      "cell_type": "code",
      "metadata": {
        "id": "htYcTl6QBK5V",
        "colab_type": "code",
        "colab": {}
      },
      "source": [
        "import matplotlib.pyplot as plt"
      ],
      "execution_count": 0,
      "outputs": []
    },
    {
      "cell_type": "code",
      "metadata": {
        "id": "AcIWMF6eBK5b",
        "colab_type": "code",
        "colab": {
          "base_uri": "https://localhost:8080/",
          "height": 34
        },
        "outputId": "371e15ae-cdb2-4ed5-e0b4-80002cbb6e5d"
      },
      "source": [
        "len(df1)"
      ],
      "execution_count": 77,
      "outputs": [
        {
          "output_type": "execute_result",
          "data": {
            "text/plain": [
              "4809"
            ]
          },
          "metadata": {
            "tags": []
          },
          "execution_count": 77
        }
      ]
    },
    {
      "cell_type": "code",
      "metadata": {
        "id": "TLRoVZnNBK5g",
        "colab_type": "code",
        "colab": {}
      },
      "source": [
        ""
      ],
      "execution_count": 0,
      "outputs": []
    },
    {
      "cell_type": "code",
      "metadata": {
        "id": "M3268752BK5k",
        "colab_type": "code",
        "colab": {
          "base_uri": "https://localhost:8080/",
          "height": 282
        },
        "outputId": "cd1c880a-1040-4835-e3e6-8cb5cbcb67c8"
      },
      "source": [
        "plt.plot(day_new,scaler.inverse_transform(df1[4709:]))\n",
        "plt.plot(day_pred,scaler.inverse_transform(lst_output))"
      ],
      "execution_count": 78,
      "outputs": [
        {
          "output_type": "execute_result",
          "data": {
            "text/plain": [
              "[<matplotlib.lines.Line2D at 0x7fadb0f4b7b8>]"
            ]
          },
          "metadata": {
            "tags": []
          },
          "execution_count": 78
        },
        {
          "output_type": "display_data",
          "data": {
            "image/png": "[encoded data removed]",
            "text/plain": [
              "<Figure size 432x288 with 1 Axes>"
            ]
          },
          "metadata": {
            "tags": [],
            "needs_background": "light"
          }
        }
      ]
    },
    {
      "cell_type": "code",
      "metadata": {
        "id": "oz2ln8WDBK5o",
        "colab_type": "code",
        "colab": {
          "base_uri": "https://localhost:8080/",
          "height": 282
        },
        "outputId": "f0c4a296-c1a6-43a2-d176-a0ae2c906313"
      },
      "source": [
        "df3=df1.tolist()\n",
        "df3.extend(lst_output)\n",
        "plt.plot(df3[1200:])"
      ],
      "execution_count": 82,
      "outputs": [
        {
          "output_type": "execute_result",
          "data": {
            "text/plain": [
              "[<matplotlib.lines.Line2D at 0x7fadb07161d0>]"
            ]
          },
          "metadata": {
            "tags": []
          },
          "execution_count": 82
        },
        {
          "output_type": "display_data",
          "data": {
            "image/png": "[encoded data removed]",
            "text/plain": [
              "<Figure size 432x288 with 1 Axes>"
            ]
          },
          "metadata": {
            "tags": [],
            "needs_background": "light"
          }
        }
      ]
    },
    {
      "cell_type": "code",
      "metadata": {
        "id": "UWI6ibXLBK5s",
        "colab_type": "code",
        "colab": {}
      },
      "source": [
        "df3=scaler.inverse_transform(df3).tolist()"
      ],
      "execution_count": 0,
      "outputs": []
    },
    {
      "cell_type": "code",
      "metadata": {
        "id": "95zJXRo4BK5x",
        "colab_type": "code",
        "colab": {
          "base_uri": "https://localhost:8080/",
          "height": 282
        },
        "outputId": "ee471383-4f42-4e9e-9796-8c7c3426d53f"
      },
      "source": [
        "plt.plot(df3)"
      ],
      "execution_count": 81,
      "outputs": [
        {
          "output_type": "execute_result",
          "data": {
            "text/plain": [
              "[<matplotlib.lines.Line2D at 0x7fadb0ed3d30>]"
            ]
          },
          "metadata": {
            "tags": []
          },
          "execution_count": 81
        },
        {
          "output_type": "display_data",
          "data": {
            "image/png": "[encoded data removed]",
            "text/plain": [
              "<Figure size 432x288 with 1 Axes>"
            ]
          },
          "metadata": {
            "tags": [],
            "needs_background": "light"
          }
        }
      ]
    },
    {
      "cell_type": "code",
      "metadata": {
        "id": "u8bRv4K0BK53",
        "colab_type": "code",
        "colab": {}
      },
      "source": [
        ""
      ],
      "execution_count": 0,
      "outputs": []
    }
  ]
}